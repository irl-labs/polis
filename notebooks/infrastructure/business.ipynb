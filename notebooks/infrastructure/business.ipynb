{
 "cells": [
  {
   "cell_type": "markdown",
   "id": "6f1e687a-bf2e-47de-b5e8-28876b9453e0",
   "metadata": {
    "jp-MarkdownHeadingCollapsed": true
   },
   "source": [
    "### [SBA PPP Loans](https://data.sba.gov/dataset/ppp-foia)"
   ]
  },
  {
   "cell_type": "code",
   "execution_count": null,
   "id": "f37ce18a-da0d-412f-bf9e-2abdf83ecdd8",
   "metadata": {},
   "outputs": [],
   "source": [
    "##%load water.md\n",
    "from IPython.display import Markdown, display\n",
    "\n",
    "display(Markdown(\"water.md\"))"
   ]
  },
  {
   "cell_type": "markdown",
   "id": "7cf3e175-18d5-4138-9beb-54a9d237c87a",
   "metadata": {
    "jp-MarkdownHeadingCollapsed": true
   },
   "source": [
    "## Set-Up"
   ]
  },
  {
   "cell_type": "code",
   "execution_count": null,
   "id": "4b54beca-bfe9-4709-962e-802dde23d489",
   "metadata": {
    "tags": []
   },
   "outputs": [],
   "source": [
    "from dotenv import load_dotenv, find_dotenv\n",
    "_ = load_dotenv (\n",
    "        find_dotenv (\n",
    "            usecwd=True\n",
    "        ),\n",
    "    override=True\n",
    ") # read local .env file and override any existing\n",
    "\n",
    "from sqlalchemy import create_engine\n",
    "from os import environ\n",
    "\n",
    "username     =  environ.get(\"POSTGRES_USERNAME\", \"postgres\")\n",
    "password     =  environ.get(\"POSTGRES_PASSWORD\", \"postgres\")\n",
    "ipaddress    =  environ.get(\"POSTGRES_IPADDRESS\", \"localhost\")\n",
    "port         =  environ.get(\"POSTGRES_PORT\", \"5432\")\n",
    "dbname       =  environ.get(\"POSTGRES_DBNAME\", \"MA\")\n",
    "\n",
    "#establish database connection for Transform queries and Loads\n",
    "cnx= create_engine(f'postgresql://{username}:{password}@{ipaddress}:{port}/{dbname}')"
   ]
  },
  {
   "cell_type": "code",
   "execution_count": null,
   "id": "ba85d7ff-c689-4c72-acd5-c65e1a1a67bc",
   "metadata": {
    "tags": []
   },
   "outputs": [],
   "source": [
    "import pandas as pd\n",
    "import numpy as np"
   ]
  },
  {
   "cell_type": "markdown",
   "id": "35e231fb-5996-4e22-a697-90af6c93de36",
   "metadata": {
    "jp-MarkdownHeadingCollapsed": true
   },
   "source": [
    "## Extract"
   ]
  },
  {
   "cell_type": "code",
   "execution_count": null,
   "id": "25c88c5f-c16f-4f95-877f-18a4a86f4ad5",
   "metadata": {
    "tags": []
   },
   "outputs": [],
   "source": [
    "\n",
    "# sba_data_dict_url = 'https://data.sba.gov/dataset/8aa276e2-6cab-4f86-aca4-a7dde42adf24/resource/aab8e9f9-36d1-42e1-b3ba-e59c79f1d7f0/download/ppp-data-dictionary.xlsx'\n",
    "\n",
    "# sba_data_dict = pd.read_excel(sba_data_dict_url)\n",
    "# sba_data_dict\n",
    "\n",
    "\n",
    "# link.format(num='2',id=links['2'])\n",
    "\n",
    "# ppp=pd.read_csv(link.format(num=num,id=links[num]))"
   ]
  },
  {
   "cell_type": "code",
   "execution_count": null,
   "id": "9e6f24d1-138a-4c52-869a-74eb1db3f823",
   "metadata": {
    "tags": []
   },
   "outputs": [],
   "source": [
    "#    '0':'2b55e11d-7e75-4bbb-b526-69a06c0c4731/download/public_150k_plus_230101.csv',\n",
    "\n",
    "link = 'https://data.sba.gov/dataset/8aa276e2-6cab-4f86-aca4-a7dde42adf24/resource/{id}//download/public_up_to_150k_{num}_230101.csv'\n",
    "links = {\n",
    "    '1': '5f700a26-02f9-4d97-94a3-e3c2c43871eb',\n",
    "    '2': 'b785dfac-7d99-4bc0-9ab2-e87fe855174e',\n",
    "    '3': '6899d4ff-7f2a-4455-a18f-592118e8e052',\n",
    "    '4': 'a100fcb3-7708-4683-aa63-e5a594264e21',\n",
    "    '5': 'f4f85ef0-6279-4e81-baac-eefbbc3ebc2d',\n",
    "    '6': '03bab509-ad0f-4dbd-88f1-99599dbd3dfc',\n",
    "    '7': '2cea4fbe-2fb5-4307-8d00-5c7203d333f7',\n",
    "    '8': '35375b26-8bd5-4868-b89d-ab02ccbf2b43',\n",
    "    '9': '2f6e4ccd-0311-43dc-b721-8bc07f586fa2',\n",
    "    '10':'d2a0b6cd-414a-44af-9c0d-55259e5ebf20',\n",
    "    '11':'262eb7fc-e074-45ca-a977-f6d8d223e1b3',\n",
    "    '12':'dd54d47b-63e9-41c4-ae13-8e12c8ca4ea1',\n",
    "}\n",
    "import requests\n",
    "\n",
    "Arlington = pd.DataFrame()\n",
    "MA= pd.DataFrame()\n",
    "for num in links.keys():\n",
    "    r = requests.get(link.format(num=num,id=links[num]), stream=True)\n",
    "    ppp = pd.read_csv(r.raw)\n",
    "\n",
    "    mask = (ppp.BorrowerState=='MA')&(ppp.BorrowerCity=='Arlington')\n",
    "    Arlington = pd.concat([Arlington,ppp[mask]])\n",
    "\n",
    "    mask = (ppp.BorrowerState=='MA')\n",
    "    MA = pd.concat([MA,ppp[mask]])\n",
    "    print(num,len(Arlington),len(MA))\n"
   ]
  },
  {
   "cell_type": "markdown",
   "id": "e8591c1a-5e44-4dfd-ab6f-abedcfff6f73",
   "metadata": {
    "jp-MarkdownHeadingCollapsed": true
   },
   "source": [
    "## Transform"
   ]
  },
  {
   "cell_type": "code",
   "execution_count": null,
   "id": "8ccae445-2336-467d-ad0c-2f94e7548ac9",
   "metadata": {
    "tags": []
   },
   "outputs": [],
   "source": [
    "#ppp = pd.read_csv(links['1'])\n",
    "mask = (ppp.BorrowerState=='MA')&(ppp.BorrowerCity=='Arlington')\n",
    "Arlington_bigloans = ppp[mask].copy()\n",
    "mask = (ppp.BorrowerState=='MA')\n",
    "MA_bigloans = ppp[mask].copy()\n",
    "           \n",
    "\n",
    "#.iloc[-1]\n",
    "cols = ['LoanNumber', 'DateApproved','BorrowerName', 'BorrowerAddress','InitialApprovalAmount',\n",
    "       'CurrentApprovalAmount', 'UndisbursedAmount', 'FranchiseName',\n",
    "        'BusinessAgeDescription','JobsReported',\n",
    "       'NAICSCode', 'Race', 'Ethnicity', 'UTILITIES_PROCEED',\n",
    "       'PAYROLL_PROCEED', 'MORTGAGE_INTEREST_PROCEED', 'RENT_PROCEED',\n",
    "       'REFINANCE_EIDL_PROCEED', 'HEALTH_CARE_PROCEED',\n",
    "       'DEBT_INTEREST_PROCEED', 'BusinessType','Gender', 'Veteran', 'NonProfit', 'ForgivenessAmount',\n",
    "       'ForgivenessDate']\n",
    "combo = pd.concat([Arlington[cols],Arlington_bigloans[cols]])\n",
    "\n",
    "for col in ['FranchiseName','NonProfit']:\n",
    "    mask = pd.isnull(combo[col])\n",
    "    combo.loc[mask,col]=''\n",
    "    \n",
    "for col in ['DateApproved','ForgivenessDate']:\n",
    "    combo[col]=pd.to_datetime(combo[col]).dt.date#dt.strftime('%Y-%m-%d')\n",
    "    \n",
    "int_cols = ['InitialApprovalAmount',\n",
    "       'CurrentApprovalAmount', 'UndisbursedAmount','JobsReported',\n",
    "       'UTILITIES_PROCEED',\n",
    "       'PAYROLL_PROCEED', 'MORTGAGE_INTEREST_PROCEED', 'RENT_PROCEED',\n",
    "       'REFINANCE_EIDL_PROCEED', 'HEALTH_CARE_PROCEED',\n",
    "       'DEBT_INTEREST_PROCEED']\n",
    "for col in int_cols:\n",
    "    combo[col]=combo[col].replace({np.nan:0,pd.isnull:0}).astype(int)\n",
    "                                  \n",
    "\n",
    "combo.loc[pd.isnull(combo.ForgivenessDate),'ForgivenessDate']=None\n",
    "\n",
    "# if 'BorrowerName' in cols:\n",
    "#     cols.remove('BorrowerName')\n",
    "    \n",
    "agg_dict = dict(zip(cols,len(cols)*[list]))\n",
    "int_cols = ['InitialApprovalAmount',\n",
    "       'CurrentApprovalAmount', 'UndisbursedAmount',\n",
    "       'UTILITIES_PROCEED',\n",
    "       'PAYROLL_PROCEED', 'MORTGAGE_INTEREST_PROCEED', 'RENT_PROCEED',\n",
    "       'REFINANCE_EIDL_PROCEED', 'HEALTH_CARE_PROCEED',\n",
    "       'DEBT_INTEREST_PROCEED','ForgivenessAmount']\n",
    "\n",
    "for col in int_cols:\n",
    "    agg_dict[col]=sum\n",
    "\n",
    "for col in ['BusinessAgeDescription','NAICSCode','BorrowerAddress','Race', 'JobsReported',\n",
    "            'Ethnicity','Gender', 'Veteran','NonProfit','BusinessType','FranchiseName']:\n",
    "    agg_dict[col]='last'  ##37 BorrowAddresses changes, adding Apt# and prefix spelling\n",
    "\n",
    "ppp = combo.groupby('BorrowerName').agg(agg_dict).drop('BorrowerName',axis=1).reset_index()\n",
    "\n",
    "streetPrefixes = {\n",
    "    ' STREET$':' ST',\n",
    "    ' TURNPIKE$':' TPKE',\n",
    "    ' N/A$':'',\n",
    "    ' AVE\\.\\,$' :' AVE',\n",
    "    ' AVE\\.$'  :' AVE',\n",
    "    ' AVENUE$':' AVE',\n",
    "    ' CIRCLE$':' CIR',\n",
    "    ' DRIVE$' :' DR',\n",
    "    ' EXTENSION$' :' EXT',\n",
    "    ' LANE$' :' LN',\n",
    "    ' PARK$' :' PK',\n",
    "    ' PLACE$' :' PL',\n",
    "    ' RAOD$' :' RD',\n",
    "    ' ROAD$' :' RD',\n",
    "    ' RD\\.$' :' RD',\n",
    "    ' ST\\.$' :' ST',\n",
    "}\n",
    "ppp['address']=ppp['BorrowerAddress'].str.upper().replace(streetPrefixes,regex=True)\n",
    "mask = ppp['address'].str.contains('927MASACHUSETTS')\n",
    "ppp.loc[mask,'address']='927 MASS AVE'\n",
    "ppp['address'] = ppp['address'].str.replace('MASSACHUSETTS','MASS')\n",
    "\n",
    "ppp['pid'] = ''\n",
    "exceptions = {\n",
    "    '366 Massachusetts Ave\\tABC FAMILY CHIROPRACTIC AND WELLNESS INC':'009.B-0001-0103.0',\n",
    "    '259 Massachusetts Avenue\tANGEL SEIBRING, PH.D.':'029.A-0003-0013.A',\n",
    "    '1064 Massachusetts Ave\tARLINGTON SMILES PC':'128.A-0001-1064.1',\n",
    "    \"180 Massachusetts Ave\tBRIZUELA'S ATHLETICS INC.\":'003.A-0001-0007.0',\n",
    "    '120 Decatur Street\tEASY TUCK BEDDING LLC':'037.A-0005-0001.0',\n",
    "    '180 Massachusetts Ave\tISAIAH BRIZUELA':'003.A-0001-0007.0',\n",
    "    '259 Massachusetts Ave\tJOANNE GREENFIELD':'029.A-0003-0013.B',\n",
    "    '22 Mill St\tJOSEPH FAHEY':'052.A-0001-0408.0',\n",
    "    '990 Massachusetts Ave\tMASTER THE TIME CONCIERGE LLC':'127.A-0002-0336.0',\n",
    "    '40 Brattle St\tMEHMET SAHIN':'056.A-0002-0004.A',\n",
    "    '11 Howard St\tMENGMENG DING':'148.A-0005-0011.1',\n",
    "    '259 Massachusetts Ave\tMIKKIE MITTELHOLZER HARVEY':'029.A-0003-0013.C',\n",
    "    '366 Massachusetts Avenue\tRENEE OUTLAND':'009.B-0001-0102.0',\n",
    "    '366 Massachusetts Ave\tROBERT MULHERN':'009.B-0001-0101.0',\n",
    "    '130 Broadway\tSARA DETRICK SCOTT, PSYD':'030.A-0003-0001.1',\n",
    "    '34 Hamilton road\tSELINA MAITREYA CONSULTING':'020.A-0004-0504.0',\n",
    "    '19 Prentiss Rd\tSUNSHINE NURSERY SCHOOL':'054.A-0001-0003.2',\n",
    "    '366 Massachusetts Ave\tTINA BONNEY':'009.B-0001-0304.0',\n",
    "    '366 Massachusetts Ave\tUNIVERSAL BROKERAGE REAL ESTATE LLC':'009.B-0001-0104.0',\n",
    "}\n",
    "for key in exceptions.keys():\n",
    "    mask = (ppp['BorrowerAddress'] + '\\t' + ppp['BorrowerName']) == key\n",
    "    if mask.any():\n",
    "        ppp.loc[mask,'pid'] = exceptions[key]\n",
    "#ppp[((ppp['BorrowerAddress'] + '\\t' + ppp['BorrowerName']).isin(list(exceptions.keys())))]\n",
    "\n",
    "##90 with duplicate addresses\n",
    "len(ppp[ppp['BorrowerAddress'].duplicated()])\n",
    "\n",
    "##84 different companies (some name changes) at same address\n",
    "len(ppp[ppp.BorrowerAddress.duplicated(keep=False)].sort_values(['BorrowerAddress']))\n",
    "\n",
    "len(ppp.address.unique())\n",
    "\n",
    "parcels = pd.read_sql_query('select * from property.patriot where fy=2023',cnx)\n",
    "\n",
    "ddd=ppp[ppp.pid==''].merge(parcels,how='left',right_on='location',left_on='address',indicator='matched')#.groupby('matched').count()\n",
    "\n",
    "matches = ddd[ddd.matched=='both'][['parcel']+list(ppp.columns)]\n",
    "matches['pid']=matches['parcel']\n",
    "matches=matches.drop('parcel',axis=1)\n",
    "matches = matches[ppp.columns]\n",
    "\n",
    "matches = pd.concat([ppp[ppp.pid!=''],matches])\n",
    "\n",
    "ddd=ddd[ddd.matched!='both'].drop('matched',axis=1)[ppp.columns]\n",
    "# ddd[['BorrowerAddress','BorrowerName','address']].to_csv('ppp_address_unmatched.tsv',sep='\\t',index=False)\n",
    "\n",
    "additional= pd.read_csv('ppp_address_matched.tsv',sep='\\t')\n",
    "\n",
    "additional_matches = ddd.drop('pid',axis=1).merge(additional,on=['BorrowerAddress','BorrowerName'],how='left')\n",
    "\n",
    "\n",
    "assert(len(matches)+len(additional)-len(ppp)==0)\n",
    "additional_matches.columns\n",
    "\n",
    "ppp_norm = pd.concat([matches,additional_matches]).reset_index(drop=True)\n",
    "\n",
    "##outdated NAICS used, by Henry Bear and Cookie Time and Fuel delivery and auto repair\n",
    "naics_changes = {\n",
    "    453998.0:459120,\n",
    "    454310.0:457210,\n",
    "    423720.0:457210,\n",
    "    445299.0:445298,\n",
    "    447190.0:811111,\n",
    "    453110.0:459310,\n",
    "    511210.0:513210,\n",
    "    #445120.0:,\n",
    "}\n",
    "\n",
    "ppp_norm['NAICSCode']=ppp_norm['NAICSCode'].replace(naics_changes)\n"
   ]
  },
  {
   "cell_type": "code",
   "execution_count": null,
   "id": "122ab234-6a88-4000-9301-c80bd20e93e0",
   "metadata": {},
   "outputs": [],
   "source": []
  },
  {
   "cell_type": "markdown",
   "id": "da1df3cc-1cb4-4bf5-ab00-9212127e22f9",
   "metadata": {
    "jp-MarkdownHeadingCollapsed": true
   },
   "source": [
    "## Load"
   ]
  },
  {
   "cell_type": "code",
   "execution_count": null,
   "id": "51e9fe23-0ea2-40a9-8ece-62ed4e4f0bea",
   "metadata": {
    "tags": []
   },
   "outputs": [],
   "source": [
    "table_create_query = \\\n",
    "\"\"\"\n",
    "        DROP TABLE IF EXISTS infrastructure.ppp;\n",
    "        CREATE TABLE infrastructure.ppp (\n",
    "            \"BorrowerName\" VARCHAR(60),\n",
    "            \"LoanNumber\" BIGINT ARRAY,\n",
    "            \"DateApproved\" DATE ARRAY,\n",
    "            \"BorrowerAddress\" VARCHAR(45),\n",
    "            \"InitialApprovalAmount\" INTEGER ,\n",
    "            \"CurrentApprovalAmount\" INTEGER ,\n",
    "            \"UndisbursedAmount\" INTEGER ,\n",
    "            \"FranchiseName\" VARCHAR(45),\n",
    "            \"BusinessAgeDescription\" VARCHAR(35),\n",
    "            \"JobsReported\" SMALLINT,\n",
    "            \"NAICSCode\" INTEGER,\n",
    "            \"Race\" CHAR(35),           \n",
    "            \"Ethnicity\" VARCHAR(30),\n",
    "            \"UTILITIES_PROCEED\" INTEGER ,\n",
    "            \"PAYROLL_PROCEED\" INTEGER ,\n",
    "            \"MORTGAGE_INTEREST_PROCEED\" INTEGER ,\n",
    "            \"RENT_PROCEED\" INTEGER ,\n",
    "            \"REFINANCE_EIDL_PROCEED\" INTEGER ,\n",
    "            \"HEALTH_CARE_PROCEED\" INTEGER ,\n",
    "            \"DEBT_INTEREST_PROCEED\" INTEGER ,\n",
    "            \"BusinessType\" VARCHAR(35) ,\n",
    "            \"Gender\" VARCHAR(15) ,\n",
    "            \"Veteran\" VARCHAR(15) ,\n",
    "            \"NonProfit\" CHAR(1) ,\n",
    "            \"ForgivenessAmount\" INTEGER,\n",
    "            \"ForgivenessDate\" DATE ARRAY,\n",
    "            \"address\" VARCHAR(45) ,\n",
    "            \"pid\" VARCHAR(20) \n",
    "        );\n",
    "        \n",
    "    CREATE INDEX ppp_idx \n",
    "        ON infrastructure.ppp(pid);\n",
    "    \"\"\"\n",
    "cnx.execute(table_create_query)\n"
   ]
  },
  {
   "cell_type": "code",
   "execution_count": null,
   "id": "94709ecb-f100-4a39-a33d-d5d9ef6c2cca",
   "metadata": {
    "tags": []
   },
   "outputs": [],
   "source": [
    "ppp_norm.to_sql(\n",
    "    'ppp',schema='infrastructure',con=cnx,\n",
    "    if_exists='append',index=False\n",
    ")"
   ]
  },
  {
   "cell_type": "code",
   "execution_count": null,
   "id": "d72e687d-d719-46d2-8945-91230fe20350",
   "metadata": {
    "tags": []
   },
   "outputs": [],
   "source": [
    "cols = ['LoanNumber', 'DateApproved','BorrowerName', 'BorrowerAddress','InitialApprovalAmount',\n",
    "       'CurrentApprovalAmount', 'UndisbursedAmount', 'FranchiseName',\n",
    "        'BusinessAgeDescription','JobsReported',\n",
    "       'NAICSCode', 'Race', 'Ethnicity', 'UTILITIES_PROCEED',\n",
    "       'PAYROLL_PROCEED', 'MORTGAGE_INTEREST_PROCEED', 'RENT_PROCEED',\n",
    "       'REFINANCE_EIDL_PROCEED', 'HEALTH_CARE_PROCEED',\n",
    "       'DEBT_INTEREST_PROCEED', 'BusinessType','Gender', 'Veteran', 'NonProfit', 'ForgivenessAmount',\n",
    "       'ForgivenessDate']\n",
    "\n",
    "all_MA = pd.concat([MA[cols],MA_bigloans[cols]])"
   ]
  },
  {
   "cell_type": "code",
   "execution_count": null,
   "id": "74c3c2e2-f2f7-4407-a733-a303752eb91a",
   "metadata": {
    "tags": []
   },
   "outputs": [],
   "source": [
    "all_MA.to_csv('MA_ppp_loans.tsv',sep='\\t',index=False)"
   ]
  },
  {
   "cell_type": "code",
   "execution_count": null,
   "id": "ea20cba3-bb46-434c-917d-87fbaf3244c9",
   "metadata": {
    "tags": []
   },
   "outputs": [],
   "source": [
    "naics = pd.read_excel('https://www.census.gov/naics/2022NAICS/6-digit_2022_Codes.xlsx')\n",
    "naics = naics.iloc[1:,0:2].reset_index(drop=True)\n",
    "naics.columns = ['key','value']\n",
    "naics.key=naics.key.astype(int)\n",
    "\n",
    "table_create_query = \\\n",
    "\"\"\"\n",
    "        DROP TABLE IF EXISTS common.naics;\n",
    "        CREATE TABLE common.naics (\n",
    "            \"key\" INTEGER,\n",
    "            \"value\" VARCHAR(255),\n",
    "            PRIMARY KEY(\"key\")\n",
    "        );\n",
    "        \n",
    "    CREATE INDEX naics_idx \n",
    "        ON common.naics(key);\n",
    "    \"\"\"\n",
    "cnx.execute(table_create_query)\n",
    "\n",
    "naics.to_sql('naics',schema='common',con=cnx,if_exists='append',index=False)"
   ]
  }
 ],
 "metadata": {
  "kernelspec": {
   "display_name": "Python 3 (ipykernel)",
   "language": "python",
   "name": "python3"
  },
  "language_info": {
   "codemirror_mode": {
    "name": "ipython",
    "version": 3
   },
   "file_extension": ".py",
   "mimetype": "text/x-python",
   "name": "python",
   "nbconvert_exporter": "python",
   "pygments_lexer": "ipython3",
   "version": "3.8.10"
  }
 },
 "nbformat": 4,
 "nbformat_minor": 5
}
