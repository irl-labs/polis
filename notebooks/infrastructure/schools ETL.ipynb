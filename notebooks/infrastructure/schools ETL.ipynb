{
 "cells": [
  {
   "cell_type": "code",
   "execution_count": 1,
   "id": "fe8ca095-e84e-4352-be3b-16a3034ba115",
   "metadata": {
    "scrolled": true,
    "tags": []
   },
   "outputs": [
    {
     "data": {
      "text/markdown": [
       "## [MA Department of Elementary and Secondary Education](https://profiles.doe.mass.edu/)\n",
       "\n",
       "A. School profiles using [statewide](https://profiles.doe.mass.edu/statereport/) reports detailing:\n",
       "   \n",
       "1. [Student Enrollment](https://profiles.doe.mass.edu/statereport/enrollmentbygrade.aspx)\n",
       "    * [public](https://profiles.doe.mass.edu/statereport/enrollmentbygrade.aspx) - enrollment  \n",
       "    * [private](https://profiles.doe.mass.edu/statereport/nonpublicschoolreport.aspx) - enrollment  \n",
       "2. [Assessments](https://profiles.doe.mass.edu/statereport/nextgenmcas.aspx) - mcas  \n",
       "3. [Finances](https://profiles.doe.mass.edu/statereport/ppx.aspx)\n",
       "    * [Per pupil expenditures](https://profiles.doe.mass.edu/statereport/ppx.aspx) - ppx  \n",
       "    * [Chapter 70 Funding/Spending](https://profiles.doe.mass.edu/statereport/netschoolspendingtrend.aspx) - nss  \n",
       "    * [salaries](https://profiles.doe.mass.edu/statereport/teachersalaries.aspx) - teacher_salaries  \n",
       "4. [Teachers](https://profiles.doe.mass.edu/statereport/teacherbyracegender.aspx)   \n",
       "    * [race/gender](https://profiles.doe.mass.edu/statereport/teacherbyracegender.aspx) - teacher_race  \n",
       "    * [age](https://profiles.doe.mass.edu/statereport/agestaffing.aspx) - teacher_age  \n",
       "    * [program area](https://profiles.doe.mass.edu/statereport/programareastaffing.aspx) - teacher_program_area  \n",
       "\n",
       "\n",
       "1. Common [postgres](https://www.postgresql.org/) database tables prefixed with schools_ under infrastructure schema; e.g. ```infrastructure.schools_enrollment```\n",
       "\n",
       "    * typical table definition\n",
       "        ```\n",
       "                CREATE TABLE infrastructure.schools_{category} (\n",
       "                    \"school_id\" INTEGER,\n",
       "                    \"year\" SMALLINT,\n",
       "                    \"{category}\" SMALLINT,\n",
       "                    \"value\" INT,\n",
       "                    PRIMARY KEY (\"school_id\",\"year\",\"{category}\")\n",
       "                );\n",
       "                CREATE INDEX schools_{category}_idx \n",
       "                    ON infrastructure.schools_{category}(\"school_id\");\n",
       "                CREATE INDEX schools_{category}_year_idx \n",
       "                    ON infrastructure.schools_{category}(\"year\");\n",
       "        ```\n",
       "  \n",
       "    * ```schools_mcas``` table adds grade, subject (math/ela)\n",
       "  \n",
       "2. columns melted into ```category```.  key-value pairs are defined in ```common.int_value_pairs```\n",
       "\n",
       "    * school_id - names\n",
       "    * school_type - public, private, district, charter and collaborative \n",
       "    * category labels; e.g. teacher_race e.g. 'Male', 'Female', 'White'\n",
       "  \n",
       "  \n",
       "3. Extract, Transform and Load\n",
       "\n",
       "    * Run time about 5 minutes\n",
       "    * space requirements\n",
       "        * enrollments 600K rows / 26M size\n",
       "        * mcas        1.6M rows / 70M size\n",
       "        * nss/ppx      60K rows /  3M size\n",
       "        * teachers    150K rows /  7M size"
      ],
      "text/plain": [
       "<IPython.core.display.Markdown object>"
      ]
     },
     "metadata": {},
     "output_type": "display_data"
    }
   ],
   "source": [
    "##%load schools.md\n",
    "from IPython.display import Markdown, display\n",
    "\n",
    "display(Markdown(\"schools.md\"))"
   ]
  },
  {
   "cell_type": "markdown",
   "id": "24f43e67-8c28-491a-9d59-26aa270503fa",
   "metadata": {},
   "source": [
    "## Set-Up"
   ]
  },
  {
   "cell_type": "code",
   "execution_count": null,
   "id": "f5cd903f-9bcc-48c6-b167-7ea62857580e",
   "metadata": {},
   "outputs": [],
   "source": [
    "from dotenv import load_dotenv, find_dotenv\n",
    "_ = load_dotenv (\n",
    "        find_dotenv (\n",
    "            usecwd=True\n",
    "        ),\n",
    "    override=True\n",
    ") # read local .env file and override any existing\n",
    "\n",
    "from sqlalchemy import create_engine\n",
    "from os import environ\n",
    "\n",
    "username     =  environ.get(\"POSTGRES_USERNAME\", \"postgres\")\n",
    "password     =  environ.get(\"POSTGRES_PASSWORD\", \"postgres\")\n",
    "ipaddress    =  environ.get(\"POSTGRES_IPADDRESS\", \"localhost\")\n",
    "port         =  environ.get(\"POSTGRES_PORT\", \"5432\")\n",
    "dbname       =  environ.get(\"POSTGRES_DBNAME\", \"MA\")\n",
    "\n",
    "#establish database connection for Transform queries and Loads\n",
    "cnx= create_engine(f'postgresql://{username}:{password}@{ipaddress}:{port}/{dbname}')\n"
   ]
  },
  {
   "cell_type": "code",
   "execution_count": null,
   "id": "092ee02c-fdef-4273-b197-9e2c75538134",
   "metadata": {},
   "outputs": [],
   "source": [
    "from DESE_selenium import *"
   ]
  },
  {
   "cell_type": "markdown",
   "id": "226fc61e-9a9f-4e5d-9cfd-c54c188bb333",
   "metadata": {
    "jp-MarkdownHeadingCollapsed": true
   },
   "source": [
    "## Extract & Load"
   ]
  },
  {
   "cell_type": "code",
   "execution_count": null,
   "id": "fff648e2-51e0-4b38-ae82-20faf384b109",
   "metadata": {},
   "outputs": [],
   "source": [
    "stub = 'https://profiles.doe.mass.edu/statereport/'"
   ]
  },
  {
   "cell_type": "markdown",
   "id": "213abf55-bcd4-4faa-b531-c43c78ce6c6d",
   "metadata": {},
   "source": [
    "#### Enrollments"
   ]
  },
  {
   "cell_type": "code",
   "execution_count": null,
   "id": "114652a8-2efa-4e1d-833e-6391992e728d",
   "metadata": {
    "tags": []
   },
   "outputs": [],
   "source": [
    "##non-public schools\n",
    "url = 'nonpublicschoolreport.aspx'\n",
    "driver = start_up(stub+url)\n",
    "time.sleep(2)\n",
    "\n",
    "data = get_private_schools_enrollments(driver)\n",
    "driver.close()\n",
    "\n",
    "enrollments, int_value_pairs, school_id_location = \\\n",
    "    transform_private_schools_enrollments(data)\n",
    "\n",
    "cnx.execute(table_create_schools_enrollment)\n",
    "\n",
    "enrollments.to_sql('schools_enrollment',schema='infrastructure',\n",
    "                    con=cnx,if_exists='append',index=False) \n",
    "int_value_pairs[~int_value_pairs.duplicated(['key','item'])].to_sql('int_value_pairs',schema='common',\n",
    "                    con=cnx,if_exists='append',index=False)\n",
    "\n",
    "##public schools\n",
    "\n",
    "url = 'enrollmentbygrade.aspx'\n",
    "driver = start_up(stub+url)\n",
    "time.sleep(2)\n",
    "\n",
    "data = get_schools_enrollments(driver)\n",
    "driver.close()\n",
    "\n",
    "enrollments, int_value_pairs = transform_enrollments(data)\n",
    "\n",
    "enrollments.to_sql('schools_enrollment',schema='infrastructure',\n",
    "                    con=cnx,if_exists='append',index=False) \n",
    "\n",
    "int_value_pairs[~int_value_pairs.duplicated(['key','item'])].to_sql('int_value_pairs',schema='common',\n",
    "                    con=cnx,if_exists='append',index=False)\n",
    "\n",
    "\n",
    "##NB common schema instead of infrastructure\n",
    "cnx.execute(table_create_school_id_location)\n",
    "school_id_location.rename(columns={'value':'dor'})\\\n",
    "        .to_sql('school_id_location',schema='common',\n",
    "                con=cnx,if_exists='append',index=False)"
   ]
  },
  {
   "cell_type": "markdown",
   "id": "92ee1651-347c-4a78-be43-9ecbade15907",
   "metadata": {},
   "source": [
    "#### MCAS performance"
   ]
  },
  {
   "cell_type": "code",
   "execution_count": null,
   "id": "2fd1cbd9-0a3e-415e-a65f-ac3bf1e36225",
   "metadata": {
    "tags": []
   },
   "outputs": [],
   "source": [
    "url = 'nextgenmcas.aspx'\n",
    "\n",
    "driver = start_up(stub + url)\n",
    "time.sleep(2)\n",
    "\n",
    "data = get_mcas(driver)\n",
    "driver.close()\n",
    "mcas, int_value_pairs = transform_mcas(data.copy())\n",
    "\n",
    "cnx.execute(table_create_mcas)\n",
    "mcas.to_sql(\n",
    "    'schools_mcas',\n",
    "    schema='infrastructure',\n",
    "    con=cnx,\n",
    "    if_exists='append',\n",
    "    index=False\n",
    ") \n",
    "\n",
    "int_value_pairs.to_sql('int_value_pairs',schema='common',\n",
    "                    con=cnx,if_exists='append',index=False)"
   ]
  },
  {
   "cell_type": "markdown",
   "id": "981a6c0e-134e-4496-9110-15f3d31e46ad",
   "metadata": {},
   "source": [
    "#### Finances"
   ]
  },
  {
   "cell_type": "code",
   "execution_count": null,
   "id": "daeaa9a9-d64d-4c4c-82d2-d86d41796825",
   "metadata": {
    "tags": []
   },
   "outputs": [],
   "source": [
    "##finances\n",
    "finance_extracts = {\n",
    "    \"nss\": {\n",
    "        \"url\" : 'netschoolspendingtrend.aspx',\n",
    "        \"ids\" : {\n",
    "            \"year\"   : \"ctl00_ContentPlaceHolder1_ddYear\",\n",
    "            \"button\" : \"btnViewReport\"\n",
    "        },\n",
    "    },\n",
    "    \"ppx\" : {\n",
    "        \"url\" : 'ppx.aspx',\n",
    "        \"ids\" : {\n",
    "            \"year\"   : \"ctl00_ContentPlaceHolder1_ddYear\",\n",
    "            \"button\" : \"btnViewReport\"\n",
    "        },\n",
    "    },\n",
    "}\n",
    "\n",
    "datasets = {}\n",
    "int_value_pairs = pd.DataFrame()\n",
    "\n",
    "for category in list(finance_extracts.keys())[1:]:\n",
    "\n",
    "    driver = start_up(\n",
    "        stub + finance_extracts[category]['url']\n",
    "    )\n",
    "    time.sleep(2)\n",
    "    data = get_teacher_details(driver,finance_extracts[category]['ids'])\n",
    "    if 'FTE Count' in data.columns:\n",
    "        data = data[~pd.isnull(data['FTE Count'])]\n",
    "\n",
    "    datasets[category], tmp_ivp =\\\n",
    "        transform_teacher_details(\n",
    "           data.copy(),\n",
    "           category = category\n",
    "    )\n",
    "    int_value_pairs = pd.concat([int_value_pairs,tmp_ivp])\n",
    "\n",
    "    mask = datasets[category]['school_id']!=0\n",
    "    datasets[category]=datasets[category][mask]\n",
    "    \n",
    "    datasets[category]['value']=\\\n",
    "        round(datasets[category]['value'].astype(str)\\\n",
    "              .str.replace(\"\\$|\\,\",\"\",regex=True)\\\n",
    "              .astype(float),0).astype(int)\n",
    "\n",
    "    driver.close()\n",
    "\n",
    "\n",
    "for key in datasets.keys():\n",
    "    cnx.execute(table_create_schools.format(category=key))\n",
    "    datasets[key].to_sql(\n",
    "        'schools_'+key.lower(),\n",
    "        schema='infrastructure',\n",
    "        con=cnx,\n",
    "        if_exists='append',\n",
    "        index=False\n",
    "    ) \n",
    "\n",
    "int_value_pairs.to_sql('int_value_pairs',schema='common',\n",
    "                    con=cnx,if_exists='append',index=False)    "
   ]
  },
  {
   "cell_type": "markdown",
   "id": "8d37a3fc-bf88-4324-93aa-2fdbd8b71ecc",
   "metadata": {},
   "source": [
    "#### Teacher Characteristics"
   ]
  },
  {
   "cell_type": "code",
   "execution_count": null,
   "id": "7dff9909-765f-4e35-87ea-b5e5cb0c8d98",
   "metadata": {
    "tags": []
   },
   "outputs": [],
   "source": [
    "## teachers staffing and salaries\n",
    "int_value_pairs = pd.DataFrame()\n",
    "\n",
    "teacher_extracts = {\n",
    "    'teacher_salaries': {\n",
    "        'url' : 'teachersalaries.aspx',\n",
    "        'ids' : {\n",
    "            'year':'ctl00_ContentPlaceHolder1_ddYear',\n",
    "            'button':'btnViewReport',\n",
    "        },\n",
    "    },\n",
    "    'teacher_race':{\n",
    "        'url':'teacherbyracegender.aspx',\n",
    "        'ids': {\n",
    "            \"year\"   : \"ctl00_ContentPlaceHolder1_ddYear\",\n",
    "            \"button\" : \"ctl00_ContentPlaceHolder1_btnViewReport\",\n",
    "        },\n",
    "    },\n",
    "    'teacher_age':{\n",
    "        'url':'agestaffing.aspx',\n",
    "        'ids': {\n",
    "            \"year\"   : \"ctl00_ContentPlaceHolder1_ddYear\",\n",
    "            \"button\" : \"btnViewReport\",\n",
    "        },\n",
    "    },\n",
    "    'teacher_program_area':{\n",
    "        'url':'programareastaffing.aspx',\n",
    "        'ids': {\n",
    "            \"year\"   : \"ddYear\",\n",
    "            \"button\" : \"btnViewReport\",\n",
    "        },\n",
    "    },\n",
    "}\n",
    "\n",
    "datasets = {}\n",
    "\n",
    "for category in teacher_extracts.keys():\n",
    "\n",
    "    driver = start_up(\n",
    "        stub + teacher_extracts[category]['url']\n",
    "    )\n",
    "    time.sleep(2)\n",
    "    data = get_teacher_details(driver,teacher_extracts[category]['ids'])\n",
    "    if 'FTE Count' in data.columns:\n",
    "        data = data[~pd.isnull(data['FTE Count'])]\n",
    "\n",
    "    datasets[category], tmp_ivp =\\\n",
    "        transform_teacher_details(\n",
    "           data.copy(),\n",
    "           category = category\n",
    "    )\n",
    "    int_value_pairs = pd.concat([int_value_pairs,tmp_ivp])\n",
    "\n",
    "    datasets[category]['value']=\\\n",
    "        round(datasets[category]['value'].astype(float),0).astype(int)\n",
    "\n",
    "    driver.close()\n",
    "    \n",
    "##not sure how a blank year appeared\n",
    "##remove state totals school_id=0\n",
    "for key in datasets.keys():\n",
    "    mask = (datasets[key].year!='')&\\\n",
    "            (datasets[key].school_id!=0)&\\\n",
    "                (~datasets[key].duplicated(['school_id','year',key]))\n",
    "    datasets[key]=datasets[key][mask]\n",
    "    \n",
    "\n",
    "\n",
    "for key in datasets.keys():\n",
    "    cnx.execute(table_create_teachers.format(category=key))\n",
    "    datasets[key].to_sql(\n",
    "        'schools_'+key.lower(),\n",
    "        schema='infrastructure',\n",
    "        con=cnx,\n",
    "        if_exists='append',\n",
    "        index=False\n",
    "    ) \n",
    "\n",
    "int_value_pairs.to_sql('int_value_pairs',schema='common',\n",
    "                    con=cnx,if_exists='append',index=False)"
   ]
  },
  {
   "cell_type": "markdown",
   "id": "3f502244-9334-4129-aa2e-ca7e4b2cef1b",
   "metadata": {},
   "source": [
    "#### School Types"
   ]
  },
  {
   "cell_type": "code",
   "execution_count": null,
   "id": "07c70cf9-44c3-4d85-8ff9-550fbc9ae931",
   "metadata": {
    "tags": []
   },
   "outputs": [],
   "source": [
    "url = 'schoolattendingchildren.aspx'\n",
    "driver = start_up(stub+url)\n",
    "time.sleep(2)\n",
    "\n",
    "data = get_schools_types(driver)\n",
    "driver.close()\n",
    "\n",
    "schools_types, int_value_pairs = transform_schools_types(data)\n",
    "\n",
    "cnx.execute(table_create_schools_types)\n",
    "\n",
    "int_value_pairs.to_sql('int_value_pairs',schema='common',\n",
    "                       con=cnx,if_exists='append',index=False)\n",
    "\n",
    "schools_types.to_sql('schools_types',schema='infrastructure',\n",
    "          con=cnx,if_exists='append',index=False)"
   ]
  },
  {
   "cell_type": "markdown",
   "id": "595bfb25-c01e-43e8-884b-5e2696830f98",
   "metadata": {},
   "source": [
    "#### Combine"
   ]
  },
  {
   "cell_type": "code",
   "execution_count": null,
   "id": "c9c5f411-e4d6-4adc-94d0-49206493c32f",
   "metadata": {
    "tags": []
   },
   "outputs": [],
   "source": [
    "query = \"\"\"\n",
    "    select * from common.int_value_pairs;\n",
    "\"\"\"\n",
    "int_value_pairs = pd.read_sql_query(query,cnx)\n",
    "\n",
    "\n",
    "all_df = pd.DataFrame()\n",
    "cols=[]\n",
    "query = \"\"\"\n",
    "    select * from infrastructure.schools_{tablename};\n",
    "\"\"\"\n",
    "for tablename in ['ppx','nss',\n",
    "                  'teacher_age',\n",
    "                  'teacher_salaries',\n",
    "                  'teacher_program_area',\n",
    "                  'teacher_race'\n",
    "                 ]:\n",
    "    df = pd.read_sql_query(query.format(tablename=tablename),cnx)    \n",
    "    for col in df.columns:\n",
    "        if col in int_value_pairs.item.unique():\n",
    "            if col !='school_id':\n",
    "                df = merge_int_value(df,int_value_pairs,col)\n",
    "                df = df.rename(columns={col:'group'})\n",
    "                for item in df.group.unique():\n",
    "                    if item in cols:\n",
    "                        print('dup',item)\n",
    "                    cols.append(item)\n",
    "\n",
    "                \n",
    "            \n",
    "    all_df = pd.concat([all_df,df])\n",
    "\n"
   ]
  },
  {
   "cell_type": "markdown",
   "id": "c6d6bd57-4d00-4537-8964-e83c558bba28",
   "metadata": {
    "jp-MarkdownHeadingCollapsed": true
   },
   "source": [
    "## Analysis"
   ]
  },
  {
   "cell_type": "code",
   "execution_count": null,
   "id": "7573efb7-72f0-4f3f-8fe5-424d17f4a463",
   "metadata": {
    "tags": []
   },
   "outputs": [],
   "source": [
    "query = \"\"\"\n",
    "    select * from common.int_value_pairs;\n",
    "\"\"\"\n",
    "int_value_pairs = pd.read_sql_query(query,cnx)\n",
    "\n",
    "query = \"\"\"\n",
    "    select m.*\n",
    "    from infrastructure.schools_mcas m\n",
    "    left join common.school_id_location lo on lo.school_id=m.school_id\n",
    "    where lo.dor = 10\n",
    "\"\"\"\n",
    "\n",
    "mcas = pd.read_sql_query(query,cnx)\n",
    "for col in mcas.columns:\n",
    "    if col in int_value_pairs.item.unique():\n",
    "        mcas = merge_int_value(mcas,int_value_pairs,col)\n",
    "\n",
    "mcas"
   ]
  },
  {
   "cell_type": "code",
   "execution_count": null,
   "id": "56793c90-0dde-4857-acea-f43436e7989e",
   "metadata": {
    "tags": []
   },
   "outputs": [],
   "source": [
    "mcas.pivot(columns=['mcas'],\n",
    "           index=['school_id','year','mcas_subject','mcas_grade'],\n",
    "          values=['value']).reset_index().replace(np.nan,None)"
   ]
  },
  {
   "cell_type": "code",
   "execution_count": null,
   "id": "306b2f65-45c0-4377-a677-c613b6b7490b",
   "metadata": {
    "tags": []
   },
   "outputs": [],
   "source": [
    "def schools_pivot(df,category):\n",
    "    \n",
    "    if category == 'enrollment':\n",
    "        index = ['school_id','year']\n",
    "        columns = ['grade']\n",
    "    elif category == 'mcas':\n",
    "        index=['school_id','year','mcas_subject','mcas_grade']\n",
    "        columns = ['mcas']\n",
    "    else:\n",
    "        index=['year']\n",
    "        columns=[category]\n",
    "\n",
    "    df = df.pivot(columns=columns,\n",
    "                  values=['value'],index=index)\\\n",
    "        .reset_index()\n",
    "    df.columns=df.columns.get_level_values(1)\n",
    "    df.columns=index+list(df.columns[len(index):])\n",
    "    df = df.sort_values(['year'],ascending=False).reset_index(drop=True).replace(np.nan,'').astype(str).replace({'\\.0$':''},regex=True)\n",
    "    if columns == ['grade']:\n",
    "        cols = ['school_id','year',\n",
    "                'PK','K',\n",
    "                '1','2','3','4','5',\n",
    "                '6','7','8',\n",
    "                '9','10','11','12',\n",
    "                'SP','Total']\n",
    "        df = df[cols]\n",
    "        \n",
    "    return df\n",
    "\n",
    "category = 'mcas'\n",
    "query = \"\"\"\n",
    "    select x.*\n",
    "    from infrastructure.schools_{category} x\n",
    "    left join common.school_id_location lo on lo.school_id=x.school_id\n",
    "    where lo.dor = 10\n",
    "\"\"\".format(category=category)\n",
    "\n",
    "df = pd.read_sql_query(query,cnx)\n",
    "for col in df.columns:\n",
    "    if col in int_value_pairs.item.unique():\n",
    "        df = merge_int_value(df,int_value_pairs,col)\n",
    "\n",
    "\n",
    "schools_pivot(df,category)"
   ]
  },
  {
   "cell_type": "markdown",
   "id": "be879992-7e77-41d7-bba5-39b6634dd50f",
   "metadata": {},
   "source": [
    "#### Misc"
   ]
  },
  {
   "cell_type": "code",
   "execution_count": null,
   "id": "4ca52635-acdb-419f-bad2-c868061c91dd",
   "metadata": {},
   "outputs": [],
   "source": [
    "url = 'https://gis-arlingtonma.opendata.arcgis.com/maps/689f7595316a4d7a84e8fc7b9602a945'\n",
    "filename = 'ArlingtonMA_SchoolDistrict.geojson'\n",
    "import geopandas as gpd\n",
    "geo = gpd.read_file(filename)"
   ]
  }
 ],
 "metadata": {
  "kernelspec": {
   "display_name": "Python 3 (ipykernel)",
   "language": "python",
   "name": "python3"
  },
  "language_info": {
   "codemirror_mode": {
    "name": "ipython",
    "version": 3
   },
   "file_extension": ".py",
   "mimetype": "text/x-python",
   "name": "python",
   "nbconvert_exporter": "python",
   "pygments_lexer": "ipython3",
   "version": "3.8.10"
  }
 },
 "nbformat": 4,
 "nbformat_minor": 5
}
