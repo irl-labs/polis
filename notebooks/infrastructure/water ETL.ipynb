{
 "cells": [
  {
   "cell_type": "code",
   "execution_count": null,
   "id": "f37ce18a-da0d-412f-bf9e-2abdf83ecdd8",
   "metadata": {
    "jupyter": {
     "source_hidden": true
    }
   },
   "outputs": [],
   "source": [
    "##%load water.md\n",
    "from IPython.display import Markdown, display\n",
    "\n",
    "display(Markdown(\"water.md\"))"
   ]
  },
  {
   "cell_type": "markdown",
   "id": "03cb8f89-127e-4397-8dd8-42eb8c9323fd",
   "metadata": {
    "jp-MarkdownHeadingCollapsed": true
   },
   "source": [
    "## Set-Up"
   ]
  },
  {
   "cell_type": "code",
   "execution_count": null,
   "id": "4b54beca-bfe9-4709-962e-802dde23d489",
   "metadata": {
    "tags": []
   },
   "outputs": [],
   "source": [
    "from dotenv import load_dotenv, find_dotenv\n",
    "_ = load_dotenv (\n",
    "        find_dotenv (\n",
    "            usecwd=True\n",
    "        ),\n",
    "    override=True\n",
    ") # read local .env file and override any existing\n",
    "\n",
    "from sqlalchemy import create_engine\n",
    "from os import environ\n",
    "\n",
    "username     =  environ.get(\"POSTGRES_USERNAME\", \"postgres\")\n",
    "password     =  environ.get(\"POSTGRES_PASSWORD\", \"postgres\")\n",
    "ipaddress    =  environ.get(\"POSTGRES_IPADDRESS\", \"localhost\")\n",
    "port         =  environ.get(\"POSTGRES_PORT\", \"5432\")\n",
    "dbname       =  environ.get(\"POSTGRES_DBNAME\", \"MA\")\n",
    "\n",
    "#establish database connection for Transform queries and Loads\n",
    "cnx= create_engine(f'postgresql://{username}:{password}@{ipaddress}:{port}/{dbname}')"
   ]
  },
  {
   "cell_type": "code",
   "execution_count": null,
   "id": "ba85d7ff-c689-4c72-acd5-c65e1a1a67bc",
   "metadata": {
    "tags": []
   },
   "outputs": [],
   "source": [
    "import pandas as pd\n",
    "import numpy as np"
   ]
  },
  {
   "cell_type": "code",
   "execution_count": null,
   "id": "d782d9ff-3613-4eb4-96a0-d4b465a62e90",
   "metadata": {},
   "outputs": [],
   "source": []
  },
  {
   "cell_type": "code",
   "execution_count": null,
   "id": "3ab48cd1-458b-4176-a329-793f103d84af",
   "metadata": {},
   "outputs": [],
   "source": []
  },
  {
   "cell_type": "code",
   "execution_count": null,
   "id": "62e57024-4f13-41ed-b8db-2ba4bcf6a1f7",
   "metadata": {
    "tags": []
   },
   "outputs": [],
   "source": [
    "data_dir = 'water/'\n",
    "bills = pd.read_excel(data_dir+'20230523-Water bills FOIA request with parcels.xlsx',skiprows=2)\n",
    "##extra row at end for 2023-05-23\n",
    "bills=bills.iloc[0:-1,:]"
   ]
  },
  {
   "cell_type": "code",
   "execution_count": null,
   "id": "5dcc8b9e-b3bd-4a9d-bf4a-f5020e146a79",
   "metadata": {
    "tags": []
   },
   "outputs": [],
   "source": [
    "def normalize_water_bills(bills):\n",
    "\n",
    "    #assert(((bills.duplicated(['Account Number','Current Read Date','Total Billed']))&(bills['Service Code']==20000)).any()==False)\n",
    "    assert(((bills.duplicated(['Account Number','Current Read Date','Total Amounts']))&(bills['Service Code']==20000)).any()==False)\n",
    "    keys = ['Account Number','Current Read Date']\n",
    "    \n",
    "    bills=bills.replace({'UNKNOWN':np.nan})\n",
    "    for col in ['Previous Read Date','Current Read Date']:\n",
    "        bills[col]=bills[col].ffill()#.loc[pd.isnull(bills[col]),col]\n",
    "    \n",
    "    mask = (bills['Service Code']>=10000) & (bills['Service Code']<=19999)\n",
    "    # water_usage = bills[mask].groupby(keys).agg({'Date\\n01/23/2023\\nBilled Usage':sum})\n",
    "    water_usage = bills[mask].groupby(keys).agg({'Billed Usage':sum})\n",
    "    water_usage.columns = ['water_usage']\n",
    "    water_usage=water_usage.reset_index()\n",
    "\n",
    "    mask = (bills['Service Code']>=20000) & (bills['Service Code']<=29999)\n",
    "    # sewer_usage = bills[mask].groupby(keys).agg({'Date\\n01/23/2023\\nBilled Usage':sum})\n",
    "    sewer_usage = bills[mask].groupby(keys).agg({'Billed Usage':sum})\n",
    "    sewer_usage.columns = ['sewer_usage']\n",
    "    sewer_usage=sewer_usage.reset_index()\n",
    "\n",
    "    usage=water_usage.merge(sewer_usage,how='outer',on=keys)\n",
    "    usage.columns = ['account','date','water_usage','sewer_usage']\n",
    "    print('Accounts: ','water',len(water_usage),'sewer',len(sewer_usage),'combo',len(usage))\n",
    "#     print('\\nSeptic systems - 35\\n')\n",
    "#     print(usage[pd.isnull(usage['sewer_usage'])].to_markdown())\n",
    "\n",
    "    ##bill amount\n",
    "    mask = (bills['Service Code']>=10000) & (bills['Service Code']<=19999)\n",
    "    # water_cost = bills[mask].groupby(keys).agg({'Total Billed':sum})\n",
    "    water_cost = bills[mask].groupby(keys).agg({'Total Amounts':sum})\n",
    "    water_cost.columns = ['water_cost']\n",
    "    water_cost=water_cost.reset_index()\n",
    "\n",
    "    mask = (bills['Service Code']>=20000) & (bills['Service Code']<=29999)\n",
    "    #sewer_cost = bills[mask].groupby(keys).agg({'Total Billed':sum})\n",
    "    sewer_cost = bills[mask].groupby(keys).agg({'Total Amounts':sum})\n",
    "    sewer_cost.columns = ['sewer_cost']\n",
    "    sewer_cost=sewer_cost.reset_index()\n",
    "\n",
    "    mask = (bills['Service Code']>=30000)\n",
    "    # admin = bills[mask].groupby(keys).agg({'Total Billed':sum})\n",
    "    admin = bills[mask].groupby(keys).agg({'Total Amounts':sum})\n",
    "    admin.columns = ['admin_cost']\n",
    "    admin=admin.reset_index()\n",
    "\n",
    "    # cost = bills.groupby(keys).agg({'Total Billed':sum})\n",
    "    cost = bills.groupby(keys).agg({'Total Amounts':sum})\n",
    "    cost.columns = ['admin_cost']\n",
    "    cost=cost.reset_index()\n",
    "\n",
    "    cost=water_cost.merge(sewer_cost,how='outer',on=keys)\\\n",
    "                    .merge(admin,how='outer',on=keys)\\\n",
    "                    .merge(cost,how='outer',on=keys)\n",
    "    cost.columns = ['account','date','water_cost','sewer_cost','admin_cost','amount']\n",
    "\n",
    "    df = usage.merge(cost,how='outer',on=['account','date']).replace(np.nan,0)\n",
    "    for col in ['water_usage','sewer_usage']:\n",
    "        df[col]=df[col].astype(int)\n",
    "        \n",
    "    df.date=pd.to_datetime(df.date)\n",
    "        \n",
    "    #df['date']=date\n",
    "    return df\n",
    "\n",
    "\n"
   ]
  },
  {
   "cell_type": "code",
   "execution_count": null,
   "id": "80b048a7-59b3-42fe-be17-9937fc4c9090",
   "metadata": {
    "tags": []
   },
   "outputs": [],
   "source": [
    "\n"
   ]
  },
  {
   "cell_type": "code",
   "execution_count": null,
   "id": "a264c66b-7d65-47de-993d-42b2b9960992",
   "metadata": {
    "tags": []
   },
   "outputs": [],
   "source": [
    "nbills = normalize_water_bills(bills)\n",
    "\n",
    "nbills['usage'] = 0\n",
    "mask = nbills.water_usage!=nbills.sewer_usage\n",
    "nbills.loc[mask,'usage']=nbills.loc[mask,'water_usage']+nbills.loc[mask,'sewer_usage']\n",
    "nbills.loc[~mask,'usage']=nbills.loc[~mask,'water_usage']\n",
    "updated_bills = nbills[['account','date','usage','amount']]"
   ]
  },
  {
   "cell_type": "code",
   "execution_count": null,
   "id": "05a72b38-2be6-4353-883a-e45766e9f240",
   "metadata": {
    "tags": []
   },
   "outputs": [],
   "source": [
    "updated_bills=updated_bills[~updated_bills.duplicated('account',keep='last')]\n",
    "updated_bills[updated_bills.date!='2023-02-28'].sort_values('date')"
   ]
  },
  {
   "cell_type": "code",
   "execution_count": null,
   "id": "7a390ce4-d2c0-4590-928d-77764f9ea61c",
   "metadata": {
    "tags": []
   },
   "outputs": [],
   "source": [
    "updated_bills.loc[:,'date']='2023-02-28'"
   ]
  },
  {
   "cell_type": "code",
   "execution_count": null,
   "id": "f1256680-51d9-4257-873c-cb8944c3e9bd",
   "metadata": {
    "tags": []
   },
   "outputs": [],
   "source": [
    "updated_bills.to_sql('water_bills',schema='infrastructure',con=cnx,\n",
    "    if_exists='append',index=False)\n"
   ]
  },
  {
   "cell_type": "markdown",
   "id": "bf89ef72-a4ce-461c-8909-ac932142ebac",
   "metadata": {},
   "source": [
    "## Needs work\n",
    "\n",
    "1. Update accounts\n",
    "2. find new PIDs\n",
    "3. need to truncate; s/b just updates"
   ]
  },
  {
   "cell_type": "markdown",
   "id": "ec93cd39-d0d2-4c3e-ae19-8e48e27151da",
   "metadata": {
    "jp-MarkdownHeadingCollapsed": true
   },
   "source": [
    "## Load"
   ]
  },
  {
   "cell_type": "code",
   "execution_count": null,
   "id": "c614d18c-89a4-4855-b112-66fa122fc06e",
   "metadata": {
    "tags": []
   },
   "outputs": [],
   "source": [
    "query = \"\"\"\n",
    "    SELECT * FROM infrastructure.water_bills ORDER BY account, date\n",
    "\"\"\"\n",
    "\n",
    "water = pd.read_sql_query(query,cnx)\n",
    "ttm = water[['usage','amount','account']].groupby('account').rolling(4).sum().reset_index(drop=True)\n",
    "ttm.columns = ['usage_ttm','amount_ttm']\n",
    "for col in ttm.columns:\n",
    "    water[col]=ttm[col]\n",
    "water['usage_chg_YoY' ] = water[['account','usage']] .groupby('account').pct_change(4)\n",
    "water['amount_chg_YoY'] = water[['account','amount']].groupby('account').pct_change(4)\n"
   ]
  },
  {
   "cell_type": "code",
   "execution_count": null,
   "id": "a0660226-0aaa-4e55-8c2f-bdbafd4ae7b1",
   "metadata": {
    "tags": []
   },
   "outputs": [],
   "source": [
    "water.to_sql('water_bills',schema='infrastructure',con=cnx,\n",
    "    if_exists='append',index=False)"
   ]
  },
  {
   "cell_type": "code",
   "execution_count": null,
   "id": "27ae3ded-7ccb-4a95-84fd-8d77feacd661",
   "metadata": {
    "tags": []
   },
   "outputs": [],
   "source": []
  },
  {
   "cell_type": "code",
   "execution_count": null,
   "id": "7ff47d50-a806-4d13-9e43-236af0a3b482",
   "metadata": {},
   "outputs": [],
   "source": []
  }
 ],
 "metadata": {
  "kernelspec": {
   "display_name": "Python 3 (ipykernel)",
   "language": "python",
   "name": "python3"
  },
  "language_info": {
   "codemirror_mode": {
    "name": "ipython",
    "version": 3
   },
   "file_extension": ".py",
   "mimetype": "text/x-python",
   "name": "python",
   "nbconvert_exporter": "python",
   "pygments_lexer": "ipython3",
   "version": "3.8.10"
  }
 },
 "nbformat": 4,
 "nbformat_minor": 5
}
