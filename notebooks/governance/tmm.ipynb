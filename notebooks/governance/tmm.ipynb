{
 "cells": [
  {
   "cell_type": "markdown",
   "id": "846d91a4-85cc-4805-b8fc-b9401c432b16",
   "metadata": {
    "jp-MarkdownHeadingCollapsed": true,
    "tags": []
   },
   "source": [
    "## Set-Up"
   ]
  },
  {
   "cell_type": "code",
   "execution_count": null,
   "id": "1534ece7-3e1c-4cb5-9697-207563b50ab2",
   "metadata": {
    "tags": []
   },
   "outputs": [],
   "source": [
    "from dotenv import load_dotenv, find_dotenv\n",
    "_ = load_dotenv (\n",
    "        find_dotenv (\n",
    "            usecwd=True\n",
    "        ),\n",
    "    override=True\n",
    ") # read local .env file and override any existing\n",
    "\n",
    "from sqlalchemy import create_engine\n",
    "from os import environ\n",
    "\n",
    "username     =  environ.get(\"POSTGRES_USERNAME\", \"postgres\")\n",
    "password     =  environ.get(\"POSTGRES_PASSWORD\", \"postgres\")\n",
    "ipaddress    =  environ.get(\"POSTGRES_IPADDRESS\", \"localhost\")\n",
    "port         =  environ.get(\"POSTGRES_PORT\", \"5432\")\n",
    "dbname       =  environ.get(\"POSTGRES_DBNAME\", \"MA\")\n",
    "\n",
    "#establish database connection for Transform queries and Loads\n",
    "cnx= create_engine(f'postgresql://{username}:{password}@{ipaddress}:{port}/{dbname}')"
   ]
  },
  {
   "cell_type": "code",
   "execution_count": null,
   "id": "67643aa0-5117-46ac-90d1-8786f6c91d3f",
   "metadata": {
    "tags": []
   },
   "outputs": [],
   "source": [
    "import pandas as pd\n",
    "import tabula\n",
    "from numpy import nan"
   ]
  },
  {
   "cell_type": "markdown",
   "id": "0f180101-d4f8-43c6-a291-ae56494b2a14",
   "metadata": {
    "jp-MarkdownHeadingCollapsed": true
   },
   "source": [
    "## Extract"
   ]
  },
  {
   "cell_type": "code",
   "execution_count": null,
   "id": "9b81e3f9-968f-491d-b4ed-3ca18f84d59d",
   "metadata": {
    "tags": []
   },
   "outputs": [],
   "source": [
    "url = 'https://www.arlingtonma.gov/home/showpublisheddocument/64717/638163762463230000'\n",
    "df = tabula.io.read_pdf(url, pages='all',pandas_options={'header': None})\n",
    "\n",
    "tmm=pd.DataFrame()\n",
    "for idx in range(len(df)):\n",
    "    tmm = pd.concat([tmm,df[idx]])\n",
    "\n",
    "##check box in column 3; only first page has user supplied headers; \n",
    "## set NaN to blank; tabula ignores dtype=str option\n",
    "tmm = tmm.iloc[1:,:].drop(tmm.columns[[3]],axis=1).replace({nan:''})\n",
    "tmm.columns = ['precinct','name','address','term','phone','email']\n",
    "\n",
    "tmm.precinct=tmm.precinct.astype(int)\n",
    "tmm['year']=2023\n"
   ]
  },
  {
   "cell_type": "code",
   "execution_count": null,
   "id": "4e68f7ca-cbb3-4251-b5a6-d2c3f6b0b0e4",
   "metadata": {
    "tags": []
   },
   "outputs": [],
   "source": [
    "data_dir = 'town_meeting/'\n",
    "atm2022 = pd.read_excel(data_dir + 'members_20220401.xlsx',sheet_name='Sheet3')\n",
    "atm2022=atm2022.replace({nan:''})\n",
    "atm2022.precinct=atm2022.precinct.astype(int)\n",
    "atm2022['year']=2022\n",
    "\n",
    "atm2019 = pd.read_excel(data_dir + 'members_20190315_normed.xlsx',sheet_name='Sheet1')\n",
    "atm2019=atm2019.replace({nan:''})\n",
    "atm2019.precinct=atm2019.precinct.astype(int)\n",
    "atm2019['year']=2019\n",
    "\n",
    "combo = tmm.merge(atm2022,on=['precinct','name','address'],how='outer',indicator='matched')"
   ]
  },
  {
   "cell_type": "markdown",
   "id": "82f2872b-dad2-41dd-ae9a-86fd9b4f5923",
   "metadata": {
    "jp-MarkdownHeadingCollapsed": true
   },
   "source": [
    "## Transform"
   ]
  },
  {
   "cell_type": "code",
   "execution_count": null,
   "id": "512f1260-08f5-485c-8afe-cd270d6b7de3",
   "metadata": {
    "tags": []
   },
   "outputs": [],
   "source": [
    "query =    \"\"\"\n",
    "    select \"streetname\", \"streetnum\",unit,pid\n",
    "    from property.assessments \n",
    "    where year=2023\n",
    "    ;\n",
    "\"\"\"\n",
    "\n",
    "parcels = pd.read_sql_query(query,cnx).replace({nan:''})\n",
    "parcels['match_address']=(parcels.streetnum + ' ' + parcels.streetname + ' ' + parcels.unit).str.strip()\n",
    "#parcels['match_address']\n"
   ]
  },
  {
   "cell_type": "code",
   "execution_count": null,
   "id": "fb3f5d3b-433c-44c6-8137-b96f654bb121",
   "metadata": {
    "tags": []
   },
   "outputs": [],
   "source": [
    "tmm['match_address']=tmm['address'].replace({'Avenue':'Ave','Street':'St','Road':'Rd','\\,|\\.|\\#| Apt.':''},regex=True).str.upper()#.str.split(' ').str[-1]"
   ]
  },
  {
   "cell_type": "code",
   "execution_count": null,
   "id": "04f176a2-2c46-4d0a-b4f7-d95aa424f46d",
   "metadata": {
    "tags": []
   },
   "outputs": [],
   "source": [
    "tmm = tmm.merge(parcels[['match_address','pid']],how='left',on='match_address')"
   ]
  },
  {
   "cell_type": "code",
   "execution_count": null,
   "id": "808f3331-a263-4a83-b862-5cf66661616e",
   "metadata": {
    "tags": []
   },
   "outputs": [],
   "source": [
    "tmm = pd.read_csv(data_dir+'master_list.tsv',sep='\\t')\\\n",
    "    .replace({nan:None})\\\n",
    "    .sort_values(['year','precinct','term','name'])\\\n",
    "    .rename(columns={'gender':'sex','resident_id':'people_id'})\n",
    "tmm"
   ]
  },
  {
   "cell_type": "markdown",
   "id": "43591697-00ea-420d-96cd-cc54e52f1b30",
   "metadata": {
    "jp-MarkdownHeadingCollapsed": true
   },
   "source": [
    "## Load"
   ]
  },
  {
   "cell_type": "code",
   "execution_count": null,
   "id": "e00f69a8-f0c5-4a45-891f-5b45c5f3f512",
   "metadata": {
    "tags": []
   },
   "outputs": [],
   "source": [
    "table_create_query = \\\n",
    "    \"\"\"\n",
    "        DROP TABLE IF EXISTS governance.tmm;\n",
    "        CREATE TABLE governance.tmm (\n",
    "            \"precinct\" SMALLINT,\n",
    "            \"name\" VARCHAR(255),\n",
    "            \"address\" VARCHAR(255),\n",
    "            \"term\" SMALLINT,\n",
    "            \"phone\" VARCHAR(20),\n",
    "            \"email\" VARCHAR(255),\n",
    "            \"year\" SMALLINT,\n",
    "            \"people_id\" VARCHAR(12),\n",
    "            sex VARCHAR(2),\n",
    "            pid VARCHAR(17)\n",
    "        );\n",
    "        CREATE INDEX tmm_year_idx \n",
    "            ON governance.tmm(\"year\");\n",
    "        CREATE INDEX tmm_precinct_idx \n",
    "            ON governance.tmm(\"precinct\");\n",
    "    \"\"\"\n",
    "cnx.execute(table_create_query)\n"
   ]
  },
  {
   "cell_type": "code",
   "execution_count": null,
   "id": "321d7a7e-9e35-44b8-9140-af430cafa986",
   "metadata": {
    "tags": []
   },
   "outputs": [],
   "source": [
    "tmm.to_sql('tmm',schema='governance',\n",
    "           con=cnx,if_exists='append',index=False)"
   ]
  }
 ],
 "metadata": {
  "kernelspec": {
   "display_name": "Python 3 (ipykernel)",
   "language": "python",
   "name": "python3"
  },
  "language_info": {
   "codemirror_mode": {
    "name": "ipython",
    "version": 3
   },
   "file_extension": ".py",
   "mimetype": "text/x-python",
   "name": "python",
   "nbconvert_exporter": "python",
   "pygments_lexer": "ipython3",
   "version": "3.8.10"
  }
 },
 "nbformat": 4,
 "nbformat_minor": 5
}
