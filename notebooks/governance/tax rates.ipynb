{
 "cells": [
  {
   "cell_type": "markdown",
   "id": "1a2840e2-feb4-441a-a51b-71ac56012f98",
   "metadata": {
    "tags": []
   },
   "source": [
    "### [Tax Rate History](https://www.arlingtonma.gov/home/showpublisheddocument/1934/637431124108530000)\n",
    "\n",
    "\n"
   ]
  },
  {
   "cell_type": "markdown",
   "id": "d106cdf5-3cf2-4e06-82a2-01457a99fbb5",
   "metadata": {
    "jp-MarkdownHeadingCollapsed": true
   },
   "source": [
    "## Set-Up"
   ]
  },
  {
   "cell_type": "code",
   "execution_count": null,
   "id": "80f79443-c8ca-4cc7-b767-4b9dc3a3ad6e",
   "metadata": {
    "tags": []
   },
   "outputs": [],
   "source": [
    "from dotenv import load_dotenv, find_dotenv\n",
    "_ = load_dotenv (\n",
    "        find_dotenv (\n",
    "            usecwd=True\n",
    "        ),\n",
    "    override=True\n",
    ") # read local .env file and override any existing\n",
    "\n",
    "from sqlalchemy import create_engine\n",
    "from os import environ\n",
    "\n",
    "username     =  environ.get(\"POSTGRES_USERNAME\", \"postgres\")\n",
    "password     =  environ.get(\"POSTGRES_PASSWORD\", \"postgres\")\n",
    "ipaddress    =  environ.get(\"POSTGRES_IPADDRESS\", \"localhost\")\n",
    "port         =  environ.get(\"POSTGRES_PORT\", \"5432\")\n",
    "dbname       =  environ.get(\"POSTGRES_DBNAME\", \"ArlingtonMA\")\n",
    "\n",
    "#establish database connection for Transform queries and Loads\n",
    "cnx= create_engine(f'postgresql://{username}:{password}@{ipaddress}:{port}/{dbname}')\n"
   ]
  },
  {
   "cell_type": "code",
   "execution_count": null,
   "id": "0d1d8c0b-d157-4c12-8d8b-8200ec1bab65",
   "metadata": {},
   "outputs": [],
   "source": [
    "import pandas as pd"
   ]
  },
  {
   "cell_type": "markdown",
   "id": "e66f2c11-2111-40b2-85f2-8cf7cd7c877e",
   "metadata": {
    "jp-MarkdownHeadingCollapsed": true
   },
   "source": [
    "## Extract"
   ]
  },
  {
   "cell_type": "code",
   "execution_count": null,
   "id": "4dffc782-d9e3-4350-bd75-972a7688b06f",
   "metadata": {
    "tags": []
   },
   "outputs": [],
   "source": [
    "taxRates = pd.read_csv('tax_rate_history.tsv',sep='\\t')"
   ]
  },
  {
   "cell_type": "markdown",
   "id": "c3e466a0-6b60-4faf-8851-69ccb535200d",
   "metadata": {
    "jp-MarkdownHeadingCollapsed": true
   },
   "source": [
    "## Load"
   ]
  },
  {
   "cell_type": "code",
   "execution_count": null,
   "id": "5f7639db-a6c7-4ab3-9e0f-77b02ba0997b",
   "metadata": {
    "tags": []
   },
   "outputs": [],
   "source": [
    "table_create_query = \\\n",
    "    \"\"\"\n",
    "        DROP TABLE IF EXISTS property.tax_rates;\n",
    "        CREATE TABLE property.tax_rates (\n",
    "            \"year\"  SMALLINT,\n",
    "            \"rate\"  REAL\n",
    "        )\n",
    "       ;\n",
    "    \"\"\"\n",
    "\n",
    "cnx.execute(table_create_query)\n",
    "\n",
    "taxRates.to_sql (\n",
    "        'tax_rates',\n",
    "        schema='property',\n",
    "        con=cnx,\n",
    "        if_exists='append',\n",
    "        index=False\n",
    ")"
   ]
  },
  {
   "cell_type": "code",
   "execution_count": null,
   "id": "dab75d47-3bdc-4caf-8870-d2331e35bc42",
   "metadata": {},
   "outputs": [],
   "source": []
  }
 ],
 "metadata": {
  "kernelspec": {
   "display_name": "Python 3 (ipykernel)",
   "language": "python",
   "name": "python3"
  },
  "language_info": {
   "codemirror_mode": {
    "name": "ipython",
    "version": 3
   },
   "file_extension": ".py",
   "mimetype": "text/x-python",
   "name": "python",
   "nbconvert_exporter": "python",
   "pygments_lexer": "ipython3",
   "version": "3.8.10"
  }
 },
 "nbformat": 4,
 "nbformat_minor": 5
}
