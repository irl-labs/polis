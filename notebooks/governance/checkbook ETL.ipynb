{
 "cells": [
  {
   "cell_type": "code",
   "execution_count": 1,
   "id": "7d1b24cf-9697-42c6-a317-4c7483d6cd24",
   "metadata": {},
   "outputs": [
    {
     "data": {
      "text/markdown": [
       "## ArlingtonMA [Open Checkbook](https://www.arlingtonma.gov/departments/finance/financial-budget-information/open-checkbook)\n",
       "\n",
       "Manual downloads by funding type.\n",
       "\n",
       "Extract could be automated for periodic updates"
      ],
      "text/plain": [
       "<IPython.core.display.Markdown object>"
      ]
     },
     "metadata": {},
     "output_type": "display_data"
    }
   ],
   "source": [
    "from IPython.display import Markdown, display\n",
    "\n",
    "display(Markdown(\"checkbook.md\"))"
   ]
  },
  {
   "cell_type": "markdown",
   "id": "6150debb-d135-4f04-91e7-b6aec113f5d0",
   "metadata": {
    "jp-MarkdownHeadingCollapsed": true
   },
   "source": [
    "## Set-up"
   ]
  },
  {
   "cell_type": "code",
   "execution_count": null,
   "id": "b5bbcf51-ef5d-4ee0-9b1f-8069197779a1",
   "metadata": {},
   "outputs": [],
   "source": [
    "from dotenv import load_dotenv, find_dotenv\n",
    "_ = load_dotenv (\n",
    "        find_dotenv (\n",
    "            usecwd=True\n",
    "        ),\n",
    "    override=True\n",
    ") # read local .env file and override any existing\n",
    "\n",
    "from sqlalchemy import create_engine\n",
    "from os import environ\n",
    "\n",
    "username     =  environ.get(\"POSTGRES_USERNAME\", \"postgres\")\n",
    "password     =  environ.get(\"POSTGRES_PASSWORD\", \"postgres\")\n",
    "ipaddress    =  environ.get(\"POSTGRES_IPADDRESS\", \"localhost\")\n",
    "port         =  environ.get(\"POSTGRES_PORT\", \"5432\")\n",
    "dbname       =  environ.get(\"POSTGRES_DBNAME\", \"ArlingtonMA\")\n",
    "\n",
    "#establish database connection for Transform queries and Loads\n",
    "cnx= create_engine(f'postgresql://{username}:{password}@{ipaddress}:{port}/{dbname}')\n"
   ]
  },
  {
   "cell_type": "markdown",
   "id": "d427eeee-c315-4493-b7f3-4cb30f090704",
   "metadata": {},
   "source": [
    "## Extract"
   ]
  },
  {
   "cell_type": "code",
   "execution_count": null,
   "id": "87ebad4d-ac9d-4d68-ad08-73550421e766",
   "metadata": {
    "jupyter": {
     "source_hidden": true
    }
   },
   "outputs": [],
   "source": [
    "import pandas as pd\n",
    "from glob import glob\n",
    "\n",
    "##gzip downloads from source\n",
    "data_dir = 'checkbook/'\n",
    "\n",
    "df = pd.DataFrame()\n",
    "for filename in sorted(glob(data_dir+'*')):\n",
    "    tmp = pd.read_csv(filename,sep='\\t')\n",
    "    tmp['year'] = filename[-8:-4]\n",
    "    df = pd.concat([df,tmp])"
   ]
  },
  {
   "cell_type": "markdown",
   "id": "dbcff550-071e-4ee3-b9a3-548d0a93fc8e",
   "metadata": {
    "jp-MarkdownHeadingCollapsed": true
   },
   "source": [
    "## Transform"
   ]
  },
  {
   "cell_type": "code",
   "execution_count": null,
   "id": "5dd41925-b159-4e6d-9c35-8076e12f76d9",
   "metadata": {},
   "outputs": [],
   "source": [
    "int_value_pairs = pd.DataFrame()\n",
    "\n",
    "for cols in [\n",
    "    ['department_category_id','department_category_name'],\n",
    "    ['description_id','description_name'],\n",
    "    ['department_id','department_name'],\n",
    "    ['vendor_id','vendor_name'],\n",
    "    ['fund_type_id','fund_type_name']\n",
    "\n",
    "]:\n",
    "\n",
    "    ivp = df[cols].groupby(cols).count().reset_index().rename(columns=dict(zip(cols,['key','value'])))\n",
    "    ivp['item']='checkbook_'+cols[0].replace('_id','')\n",
    "    int_value_pairs = pd.concat([int_value_pairs,ivp])\n",
    "\n",
    "int_value_pairs\n",
    "\n",
    "\n",
    "cols = ['year','date','check_number','amount',\n",
    "        'vendor_id','description_id',\n",
    "        'fund_type_id','department_category_id','department_id',\n",
    "        ]\n",
    "checkbook = df[cols].sort_values(['date','check_number']).reset_index(drop=True)\n",
    "checkbook.columns=checkbook.columns.str.replace('_id','')\n",
    "checkbook.columns=list(checkbook.columns[0:4])+list('checkbook_'+checkbook.columns[4:])\n",
    "\n",
    "checkbook=checkbook[~checkbook.duplicated(keep=False)]\n",
    "checkbook['dor']=10\n",
    " "
   ]
  },
  {
   "cell_type": "markdown",
   "id": "e367f535-3d66-4e8c-9324-7b904bed9f12",
   "metadata": {
    "jp-MarkdownHeadingCollapsed": true
   },
   "source": [
    "## Load"
   ]
  },
  {
   "cell_type": "code",
   "execution_count": null,
   "id": "3efbe012-e776-41bb-af86-9c00b426c08e",
   "metadata": {},
   "outputs": [],
   "source": [
    "table_create_checkbook_query = \\\n",
    "\"\"\"\n",
    "        DROP TABLE IF EXISTS governance.checkbook;\n",
    "        CREATE TABLE governance.checkbook (\n",
    "            \"dor\" SMALLINT,\n",
    "            \"year\" SMALLINT,\n",
    "            \"date\" DATE,\n",
    "            \"check_number\" INT,\n",
    "            \"amount\" REAL,\n",
    "            \"checkbook_vendor\" SMALLINT ,\n",
    "            \"checkbook_description\" SMALLINT ,\n",
    "            \"checkbook_fund_type\" SMALLINT ,\n",
    "            \"checkbook_department_category\" SMALLINT ,\n",
    "            \"checkbook_department\" SMALLINT \n",
    "        );\n",
    "        \n",
    "    CREATE INDEX governance_checkbook_idx \n",
    "        ON governance.checkbook(date);\n",
    "    CREATE INDEX checkbook_department_idx \n",
    "        ON governance.checkbook(checkbook_department);\n",
    "    \"\"\"\n",
    "cnx.execute(table_create_checkbook_query)"
   ]
  },
  {
   "cell_type": "code",
   "execution_count": null,
   "id": "649da129-6d96-4743-bc94-9e7915052780",
   "metadata": {},
   "outputs": [],
   "source": [
    "checkbook.to_sql(\n",
    "    'checkbook',schema='governance',con=cnx,\n",
    "    if_exists='append',index=False\n",
    ")\n",
    "\n",
    "int_value_pairs.to_sql(\n",
    "    'int_value_pairs',schema='common',con=cnx,\n",
    "    if_exists='append',index=False\n",
    ")"
   ]
  }
 ],
 "metadata": {
  "kernelspec": {
   "display_name": "Python 3 (ipykernel)",
   "language": "python",
   "name": "python3"
  },
  "language_info": {
   "codemirror_mode": {
    "name": "ipython",
    "version": 3
   },
   "file_extension": ".py",
   "mimetype": "text/x-python",
   "name": "python",
   "nbconvert_exporter": "python",
   "pygments_lexer": "ipython3",
   "version": "3.8.10"
  }
 },
 "nbformat": 4,
 "nbformat_minor": 5
}
