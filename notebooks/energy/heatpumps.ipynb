{
 "cells": [
  {
   "cell_type": "markdown",
   "id": "55a74f75-03c2-4236-9ee4-447b9831fecd",
   "metadata": {
    "jp-MarkdownHeadingCollapsed": true
   },
   "source": [
    "### Set-Up"
   ]
  },
  {
   "cell_type": "code",
   "execution_count": null,
   "id": "f9fdd0da-7d49-44a2-bd6e-711dba4efbdf",
   "metadata": {},
   "outputs": [],
   "source": [
    "from dotenv import load_dotenv, find_dotenv\n",
    "_ = load_dotenv (\n",
    "        find_dotenv (\n",
    "            usecwd=True\n",
    "        ),\n",
    "    override=True\n",
    ") # read local .env file and override any existing\n",
    "\n",
    "from sqlalchemy import create_engine\n",
    "from os import environ\n",
    "\n",
    "username     =  environ.get(\"POSTGRES_USERNAME\", \"postgres\")\n",
    "password     =  environ.get(\"POSTGRES_PASSWORD\", \"postgres\")\n",
    "ipaddress    =  environ.get(\"POSTGRES_IPADDRESS\", \"localhost\")\n",
    "port         =  environ.get(\"POSTGRES_PORT\", \"5432\")\n",
    "dbname       =  environ.get(\"POSTGRES_DBNAME\", \"ArlingtonMA\")\n",
    "\n",
    "#establish database connection for Transform queries and Loads\n",
    "cnx= create_engine(f'postgresql://{username}:{password}@{ipaddress}:{port}/{dbname}')\n"
   ]
  },
  {
   "cell_type": "markdown",
   "id": "f4339b88-abed-4ad1-b2ef-7e3eec93e5ef",
   "metadata": {
    "jp-MarkdownHeadingCollapsed": true
   },
   "source": [
    "### Extract"
   ]
  },
  {
   "cell_type": "code",
   "execution_count": null,
   "id": "380ca07c-d7ae-412a-b442-3a56cab6deb5",
   "metadata": {},
   "outputs": [],
   "source": [
    "import pandas as pd\n",
    "url = 'https://files-cdn.masscec.com/uploads/Residential%20ASHP%20Data_For%20Website%20%282%29.xlsx'\n",
    "data = pd.read_excel(url)"
   ]
  },
  {
   "cell_type": "markdown",
   "id": "0582bbbe-8c1c-4b65-b5f2-8843f15784e0",
   "metadata": {
    "jp-MarkdownHeadingCollapsed": true
   },
   "source": [
    "### Transform"
   ]
  },
  {
   "cell_type": "code",
   "execution_count": null,
   "id": "5b893d73-ea46-4e80-a84d-abd55f2dd9c6",
   "metadata": {},
   "outputs": [],
   "source": [
    "df = data[data['Project Town']=='ARLINGTON'].copy()\n",
    "df=df.rename(columns={'Date of Installation':'date','Total Costs':'total',\n",
    "                                    'Current Heating Fuel':'fuel','Rebate Amount $':'rebate',\n",
    "                                    'Current A/C':'ac','Current Heating $':'heating_costs',\n",
    "                                    '# Units (# of Outdoor Units)':'outdoor_units',\n",
    "                                    'Total # of indoor units':'indoor_units',\n",
    "                                    'Installed Capacity at 5°F':'capacity',\n",
    "                                    'Project Town':'town',\n",
    "                                    '  Footage':'footage'\n",
    "                                   })\n",
    "\n",
    "cols = ['date','town','total','Occupants','footage','fuel','rebate','ac','heating_costs','outdoor_units','indoor_units','capacity']\n",
    "cols = cols + ['Primary Installer Company Name', 'Backup heat for heat pump (if applicable)', 'New Construction or Retrofit?',\n",
    "       'Project Street Adress', 'Manufacturer','Received Date']\n",
    "df[cols].to_csv('heatpumps2.tsv',sep='\\t',index=False)#.plot('date','total')"
   ]
  },
  {
   "cell_type": "code",
   "execution_count": null,
   "id": "a03306a7-08e8-423b-a3d0-c90c921d2901",
   "metadata": {},
   "outputs": [],
   "source": [
    "#str in total costs s/b fixed\n",
    "mask = data['Total Costs'].apply(type).isin([int,float])\n",
    "heatpumps = data[mask].copy()\n",
    "heatpumps=heatpumps.rename(columns={'Received Date':'date','Total Costs':'total',\n",
    "                                    'Current Heating Fuel':'fuel','Rebate Amount $':'rebate',\n",
    "                                    'Current A/C':'ac','Current Heating $':'heating_costs',\n",
    "                                    '# Units (# of Outdoor Units)':'outdoor_units',\n",
    "                                    'Total # of indoor units':'indoor_units',\n",
    "                                    'Installed Capacity at 5°F':'capacity',\n",
    "                                    'Project Town':'town',\n",
    "                                    '  Footage':'footage'\n",
    "                                   })\n",
    "\n",
    "mask = ~pd.isnull(heatpumps['Site City (if different)'])\n",
    "heatpumps['city']=heatpumps['System Owner City']\n",
    "heatpumps.loc[mask,'city']=heatpumps.loc[mask,'Site City (if different)']\n",
    "\n",
    "cols = ['date','town','city','total','Occupants','footage','fuel','rebate','ac','heating_costs','outdoor_units','indoor_units','capacity']\n",
    "heatpumps=heatpumps[cols]\n",
    "print('footage',heatpumps[heatpumps.footage.apply(type)!=str].footage.median())\n",
    "print('total',heatpumps[heatpumps.total.apply(type)!=str].total.median())\n",
    "print('rebate',heatpumps[heatpumps.rebate.apply(type)!=str].rebate.median())\n",
    "print('heating_costs',heatpumps[heatpumps.heating_costs.apply(type)!=str].heating_costs.median())\n",
    "print('capacity',heatpumps[heatpumps.capacity.apply(type)!=str].capacity.median())\n",
    "\n",
    "heatpumps.loc[heatpumps.rebate.apply(type)==str,'rebate']=0\n",
    "fixit = dict(zip(['one', '3 (this field shows as $s / error)', 'two', 'Two', 'four',\n",
    "       'One', 'one (1)', '3', '-'],[1,3,2,2,4,1,1,3,0]\n",
    "        ))\n",
    "heatpumps.indoor_units=heatpumps.indoor_units.replace(fixit)\n",
    "\n",
    "import numpy as np\n",
    "heatpumps=heatpumps.groupby(heatpumps.date.dt.strftime('%Y%m')).agg({\n",
    "    'town':len,\n",
    "    'total':[sum,np.mean],\n",
    "    'rebate':[sum,np.mean],\n",
    "    'indoor_units':[max,np.mean],\n",
    "    'outdoor_units':[max,np.mean],\n",
    "    #'footage':[min,max,np.mean],\n",
    "    #'Occupants':[min,max,np.mean],\n",
    "    'capacity':[min,max,np.mean]\n",
    "})\n",
    "heatpumps.columns=['installs','total','avg_cost','rebates','avg_rebate',\n",
    "                   'indoor_units_max','avg_indoor_units',\n",
    "                   'outdoor_units_max','avg_outdoor_units',\n",
    "#                  'footage_min','footage_max','avg_footage',\n",
    "#                  'Occupants_min','Occupants_max','avg_Occupants'                   \n",
    "                  'capacity_min','capacity_max','avg_capacity'\n",
    "                  ]\n",
    "heatpumps=heatpumps.reset_index()\n",
    "##dont care if units mean is ewacked\n",
    "heatpumps=heatpumps[heatpumps.date<='201903'].replace({pd.isnull:0,np.nan:0}).astype(int)"
   ]
  },
  {
   "cell_type": "code",
   "execution_count": null,
   "id": "f1b909ba-cc58-4684-80b0-1b99267faa30",
   "metadata": {},
   "outputs": [],
   "source": [
    "hp = pd.read_csv('heatpumps.tsv',sep='\\t')"
   ]
  },
  {
   "cell_type": "code",
   "execution_count": null,
   "id": "a009da08-30ee-49e1-9472-c3dfadd6d1fa",
   "metadata": {},
   "outputs": [],
   "source": []
  },
  {
   "cell_type": "code",
   "execution_count": null,
   "id": "963c75c3-1b37-4d95-82a7-c09db7f9c7c7",
   "metadata": {},
   "outputs": [],
   "source": [
    "assess = pd.read_sql('select streetname,streetnum,unit,pid from property.assessments where year = 2018;',con=cnx)\n",
    "assess.columns=assess.columns.str.replace('streetnum','streetNum')\n",
    "\n",
    "hp['streetname'] = (hp['streetName'] + ' ' + hp['streetSuffix']).str.strip()\n",
    "hp.streetNum=hp.streetNum.astype(str)\n",
    "hp.merge(assess,how='left',on=['streetname','streetNum','unit']).sort_values(['streetName','streetNum'])[['address','pid']].to_csv('/data/foo.tsv',sep='\\t',index=False)\n"
   ]
  },
  {
   "cell_type": "markdown",
   "id": "c1ab1d00-5322-4a02-b2e2-d993c543defc",
   "metadata": {
    "jp-MarkdownHeadingCollapsed": true
   },
   "source": [
    "### Load"
   ]
  },
  {
   "cell_type": "code",
   "execution_count": null,
   "id": "c3ac2a39-7416-4ecc-9cba-acb01bfd8251",
   "metadata": {},
   "outputs": [],
   "source": [
    "table_create_query = \\\n",
    "\"\"\"\n",
    "        DROP TABLE IF EXISTS property.heatpumps;\n",
    "        CREATE TABLE property.heatpumps (\n",
    "            \"received\" DATE NOT NULL,\n",
    "            \"installed\" DATE NOT NULL,\n",
    "            \"total\" REAL NOT NULL,\n",
    "            \"occupants\" SMALLINT,\n",
    "            \"footage\" SMALLINT,           \n",
    "            \"fuel\" VARCHAR(50),\n",
    "            \"rebate\" REAL ,\n",
    "            \"ac\" VARCHAR(50),\n",
    "\n",
    "            \"heating_costs\" INTEGER,\n",
    "            \"outdoor_units\" SMALLINT,\n",
    "            \"indoor_units\" SMALLINT,\n",
    "            \"capacity\" INTEGER,\n",
    "            \n",
    "            \"installer\" VARCHAR(255) ,\n",
    "            \"backup\" VARCHAR(255) ,\n",
    "            \"address\" VARCHAR(255) ,\n",
    "            \"manufacturer\" VARCHAR(255) ,\n",
    "            \"streetNum\" SMALLINT,\n",
    "            \"streetName\" VARCHAR(255),\n",
    "            \"streetSuffix\" VARCHAR(20),\n",
    "            \"unit\" VARCHAR(5),\n",
    "            \"pid\" CHAR(17)\n",
    "        );\n",
    "        \n",
    "    CREATE INDEX heatpumps_idx \n",
    "        ON property.heatpumps(pid);\n",
    "    CREATE INDEX heatpumps_date_idx \n",
    "        ON property.heatpumps(installed);\n",
    "    \"\"\"\n",
    "cnx.execute(table_create_query)\n"
   ]
  },
  {
   "cell_type": "code",
   "execution_count": null,
   "id": "f61ec51b-6d5b-4e80-953b-45a891be15e0",
   "metadata": {},
   "outputs": [],
   "source": [
    "\n",
    "hp.to_sql('heatpumps',schema='property',con=cnx,if_exists='append',index=False)"
   ]
  }
 ],
 "metadata": {
  "kernelspec": {
   "display_name": "Python 3 (ipykernel)",
   "language": "python",
   "name": "python3"
  },
  "language_info": {
   "codemirror_mode": {
    "name": "ipython",
    "version": 3
   },
   "file_extension": ".py",
   "mimetype": "text/x-python",
   "name": "python",
   "nbconvert_exporter": "python",
   "pygments_lexer": "ipython3",
   "version": "3.8.10"
  }
 },
 "nbformat": 4,
 "nbformat_minor": 5
}
