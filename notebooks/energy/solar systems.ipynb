{
 "cells": [
  {
   "cell_type": "markdown",
   "id": "db9dac6b-a373-4b6f-b662-f4ea53b3d499",
   "metadata": {},
   "source": [
    "### energy\n",
    "\n",
    "1. solar arrays\n",
    "2. heat pumps\n",
    "3. EV charges\n",
    "4. storage tanks\n",
    "6. propane tanks"
   ]
  },
  {
   "cell_type": "code",
   "execution_count": 2,
   "id": "4eef131f-d4f5-473d-b38d-92416f71dcfb",
   "metadata": {
    "tags": []
   },
   "outputs": [],
   "source": [
    "import pandas as pd\n",
    "import geopandas as gpd\n"
   ]
  },
  {
   "cell_type": "code",
   "execution_count": 133,
   "id": "9feed482-cff9-4210-acd8-e69571b372b9",
   "metadata": {
    "tags": []
   },
   "outputs": [],
   "source": [
    "data_dir = './'\n",
    "a_solar = gpd.read_file(data_dir+'ArlingtonMA.geojson',dtypes={'tokenId':str})\n",
    "cols = ['tokenId','image','dates','entity','financials','watts']\n",
    "df = pd.DataFrame({\n",
    "    'loc_id':[x['location'] for x in a_solar.governance],\n",
    "    'pid':[x['parcel'] for x in a_solar.governance],\n",
    "    'utility':['' if type(x)==float else x['utility'] if 'utility' in x else '' for x in a_solar.amps] ,\n",
    "    'meter_mfgr':['' if type(x)==float else x['meter_mfgr'] if 'meter_mfgr' in x else '' for x in a_solar.amps] ,\n",
    "})\n",
    "for col in cols:\n",
    "    df[col] = a_solar[col]\n",
    "\n",
    "\n",
    "##construct image on client from lat/lon coords\n",
    "#df.image[0]\n",
    "\n",
    "int_value_pairs=pd.DataFrame()\n",
    "for col in ['utility','meter_mfgr']:\n",
    "    a = list(df[col].unique())\n",
    "    xref = dict(zip(a,range(len(a))))\n",
    "    tmp = pd.DataFrame({'key':xref.values(),'item':col,'value':xref.keys()})\n",
    "    int_value_pairs = pd.concat([int_value_pairs,tmp])\n",
    "    df[col]=df[col].replace(xref)"
   ]
  },
  {
   "cell_type": "code",
   "execution_count": 135,
   "id": "5198032f-002a-4fa6-bbab-5a12740b04a1",
   "metadata": {
    "tags": []
   },
   "outputs": [
    {
     "data": {
      "text/plain": [
       "<sqlalchemy.engine.cursor.LegacyCursorResult at 0x7f4cc5b53dc0>"
      ]
     },
     "execution_count": 135,
     "metadata": {},
     "output_type": "execute_result"
    }
   ],
   "source": [
    "table_create_query = \\\n",
    "\"\"\"\n",
    "        DROP TABLE IF EXISTS property.solar;\n",
    "        CREATE TABLE property.solar (\n",
    "            \"loc_id\" VARCHAR(16),\n",
    "            \"pid\" VARCHAR(17),\n",
    "            \"utility\" SMALLINT,\n",
    "            \"meter_mfgr\" SMALLINT,\n",
    "            \"tokenId\" CHAR(19), --DECIMAL(19,0),           \n",
    "            \"image\" VARCHAR(125),\n",
    "            \"dates\" JSONB ,\n",
    "            \"entity\" JSONB ,\n",
    "            \"financials\" JSONB ,\n",
    "            \"watts\" JSONB \n",
    "        );\n",
    "        \n",
    "    CREATE INDEX solar_idx \n",
    "        ON property.solar(pid);\n",
    "    CREATE INDEX solar_loc_id_idx \n",
    "        ON property.solar(loc_id);\n",
    "    \"\"\"\n",
    "cnx.execute(table_create_query)\n"
   ]
  },
  {
   "cell_type": "code",
   "execution_count": 147,
   "id": "ed1d6b17-b80f-48fc-8c63-387675ab8b0e",
   "metadata": {
    "tags": []
   },
   "outputs": [
    {
     "data": {
      "text/plain": [
       "24"
      ]
     },
     "execution_count": 147,
     "metadata": {},
     "output_type": "execute_result"
    }
   ],
   "source": [
    "int_value_pairs.to_sql(\n",
    "    'int_value_pairs',schema='common',con=cnx,\n",
    "    if_exists='append',index=False\n",
    ")"
   ]
  },
  {
   "cell_type": "code",
   "execution_count": 136,
   "id": "655db9ba-5685-424e-813e-8dd84618ee68",
   "metadata": {
    "tags": []
   },
   "outputs": [
    {
     "data": {
      "text/plain": [
       "120"
      ]
     },
     "execution_count": 136,
     "metadata": {},
     "output_type": "execute_result"
    }
   ],
   "source": [
    "from sqlalchemy import dialects\n",
    "\n",
    "df.to_sql(\n",
    "    'solar',schema='property',con=cnx,\n",
    "    if_exists='append',index=False,\n",
    "    dtype={\n",
    "        'dates': dialects.postgresql.JSONB,\n",
    "        'entity': dialects.postgresql.JSONB,\n",
    "        'financials': dialects.postgresql.JSONB,\n",
    "        'watts': dialects.postgresql.JSONB,\n",
    "    }\n",
    ")"
   ]
  }
 ],
 "metadata": {
  "kernelspec": {
   "display_name": "Python 3 (ipykernel)",
   "language": "python",
   "name": "python3"
  },
  "language_info": {
   "codemirror_mode": {
    "name": "ipython",
    "version": 3
   },
   "file_extension": ".py",
   "mimetype": "text/x-python",
   "name": "python",
   "nbconvert_exporter": "python",
   "pygments_lexer": "ipython3",
   "version": "3.8.10"
  }
 },
 "nbformat": 4,
 "nbformat_minor": 5
}
