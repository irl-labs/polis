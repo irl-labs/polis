{
 "cells": [
  {
   "cell_type": "code",
   "execution_count": 1,
   "id": "59f92ae0-f60c-4dc0-8482-5f45c968c783",
   "metadata": {
    "jupyter": {
     "source_hidden": true
    },
    "scrolled": true,
    "tags": []
   },
   "outputs": [
    {
     "data": {
      "text/markdown": [
       "#### [ArlingtonMA Permits](https://www.arlingtonma.gov/departments/inspectional-services/view-building-permits)\n",
       "\n",
       "Extract from in-house database thru perl UI.  Not applicable to other municipalities.\n",
       "\n",
       "#### Issues\n",
       "\n",
       "* About 30% of permit addresses do not match assessor records.\n",
       "\n"
      ],
      "text/plain": [
       "<IPython.core.display.Markdown object>"
      ]
     },
     "metadata": {},
     "output_type": "display_data"
    }
   ],
   "source": [
    "from IPython.display import Markdown, display\n",
    "\n",
    "display(Markdown(\"permits.md\"))"
   ]
  },
  {
   "cell_type": "markdown",
   "id": "087eebfd-3acd-4c9f-aa94-ff12d2c153fa",
   "metadata": {
    "jp-MarkdownHeadingCollapsed": true,
    "jupyter": {
     "source_hidden": true
    },
    "tags": []
   },
   "source": [
    "## Issues\n",
    "\n",
    "1. Replace selenium chrome driver with firefox driver"
   ]
  },
  {
   "cell_type": "markdown",
   "id": "e000b337-e406-4509-89a1-12b2e845df1c",
   "metadata": {
    "jp-MarkdownHeadingCollapsed": true
   },
   "source": [
    "## Set-up"
   ]
  },
  {
   "cell_type": "code",
   "execution_count": null,
   "id": "cb8a4d01-b67b-49fd-936f-dd526a2bbffe",
   "metadata": {},
   "outputs": [],
   "source": [
    "from dotenv import load_dotenv, find_dotenv\n",
    "_ = load_dotenv (\n",
    "        find_dotenv (\n",
    "            usecwd=True\n",
    "        ),\n",
    "    override=True\n",
    ") # read local .env file and override any existing\n",
    "\n",
    "from sqlalchemy import create_engine\n",
    "from os import environ\n",
    "\n",
    "username     =  environ.get(\"POSTGRES_USERNAME\", \"postgres\")\n",
    "password     =  environ.get(\"POSTGRES_PASSWORD\", \"postgres\")\n",
    "ipaddress    =  environ.get(\"POSTGRES_IPADDRESS\", \"localhost\")\n",
    "port         =  environ.get(\"POSTGRES_PORT\", \"5432\")\n",
    "dbname       =  environ.get(\"POSTGRES_DBNAME\", \"ArlingtonMA\")\n",
    "\n",
    "#establish database connection for Transform queries and Loads\n",
    "cnx= create_engine(f'postgresql://{username}:{password}@{ipaddress}:{port}/{dbname}')\n"
   ]
  },
  {
   "cell_type": "code",
   "execution_count": null,
   "id": "c056affb-aacf-4532-95de-e45829212699",
   "metadata": {
    "tags": []
   },
   "outputs": [],
   "source": [
    "import pandas as pd"
   ]
  },
  {
   "cell_type": "markdown",
   "id": "c39a5172-eae2-4326-9433-d36730313dbd",
   "metadata": {
    "jp-MarkdownHeadingCollapsed": true
   },
   "source": [
    "## Extract"
   ]
  },
  {
   "cell_type": "code",
   "execution_count": null,
   "id": "00532dfe-8cb3-48e5-b557-8395b03e58ac",
   "metadata": {
    "tags": []
   },
   "outputs": [],
   "source": [
    "def start_up(url, headless=False):\n",
    "\n",
    "    from seleniumbase import Driver\n",
    "\n",
    "    driver = Driver(browser=\"chrome\", headless=False)\n",
    "    \n",
    "    driver.get(url)\n",
    "\n",
    "    return driver\n",
    "\n",
    "def extract_permits(YEAR = 2023):\n",
    "    from selenium.webdriver.common.by import By\n",
    "    import time\n",
    "    \n",
    "    STARTDATE='1/1/'+str(YEAR)\n",
    "    ENDDATE='12/31/'+str(YEAR)\n",
    "    \n",
    "    ##the url passed parameters; permittype= NULL defaults to 'Any permit'\n",
    "    url = 'https://secure.town.arlington.ma.us/BuildingPermits/'+\\\n",
    "            'Select.pl?permittype=&issue=' +\\\n",
    "            STARTDATE + '&issue_thru=' + ENDDATE\n",
    "\n",
    "    browser = start_up(url)\n",
    "\n",
    "    browser.find_element(By.XPATH,'//input[@value = \"Search\"]').click()\n",
    "    time.sleep(5)\n",
    "\n",
    "\n",
    "    browser.find_element(By.PARTIAL_LINK_TEXT,'Show all').click()\n",
    "    time.sleep(5)\n",
    "    \n",
    "    ##messed up\n",
    "    df = pd.read_html(browser.page_source)[0].iloc[3:-3]\n",
    "    \n",
    "    browser.close()\n",
    "\n",
    "    return df\n"
   ]
  },
  {
   "cell_type": "code",
   "execution_count": null,
   "id": "ad48a414-94c0-4e38-9593-96eba807c05b",
   "metadata": {
    "tags": []
   },
   "outputs": [],
   "source": [
    "permits_raw = extract_permits(YEAR = 2023)"
   ]
  },
  {
   "cell_type": "markdown",
   "id": "12be11c5-d627-4a55-b788-e2bd5b01bf28",
   "metadata": {
    "jp-MarkdownHeadingCollapsed": true
   },
   "source": [
    "## Transform"
   ]
  },
  {
   "cell_type": "code",
   "execution_count": null,
   "id": "efcd8446-bd20-438b-b3be-ae4c04b1219d",
   "metadata": {
    "tags": []
   },
   "outputs": [],
   "source": [
    "def update_property_permits ( df ) :\n",
    "\n",
    "    df.columns     =  [\n",
    "        'streetNum','streetName','date',\n",
    "        'permit_type','permit_class','permit',\n",
    "        'description','owner','contractor',\n",
    "        'permit_value','permit_fee'\n",
    "    ]\n",
    "    df[['streetNum','streetName']] = df[['streetNum','streetName']].ffill()\n",
    "\n",
    "    df['date']     =  pd.to_datetime(df['date']).dt.strftime('%Y-%m-%d').astype(str)\n",
    "    df['year']     =  pd.to_datetime(df.date).dt.strftime('%Y').astype(int)\n",
    "    df.streetName  =  df.streetName.str.upper()\n",
    "    #df             =  permits_norm(df)\n",
    "\n",
    "\n",
    "    for col in ['permit','permit_value','permit_fee']:\n",
    "        mask = df[col]==''\n",
    "        df.loc[mask,col]='0'\n",
    "        df[col]=df[col].fillna('0').astype(float).astype(int)\n",
    "\n",
    "\n",
    "    cols = ['year','date','permit','permit_type','permit_class',\n",
    "            'description','owner','contractor','permit_value','permit_fee',\n",
    "            'streetName','streetNum','address']\n",
    "    \n",
    "    df['address']  =  df [ 'streetNum'  ] . map ( str , na_action = 'ignore' ) + ' ' +\\\n",
    "                      df [ 'streetName' ] . map ( str , na_action = 'ignore' )\n",
    "\n",
    "    return df[cols].sort_values(['year','date','permit']).reset_index(drop=True)\n",
    "\n",
    "def match_streetNameNum_2_pid(df, cnx):\n",
    "\n",
    "    cols = ['streetName','streetNum']\n",
    "    addresses = df[~df.duplicated(cols)][cols].sort_values(cols).reset_index(drop=True)\n",
    "    len(addresses)\n",
    "\n",
    "\n",
    "    addresses['unit']=addresses.streetNum.str.split('[Unit|#|unit]',regex=True).str[1]\n",
    "    addresses['streetnum']=addresses.streetNum.str.split('[Unit|#|unit]',regex=True).str[0]\n",
    "    addresses.unit=addresses.unit.astype(str).str.replace('nan','')\n",
    "\n",
    "    query = \"\"\"\n",
    "            select \"streetname\",\"streetnum\",\"unit\",\"pid\" \n",
    "            from property.assessments \n",
    "            where year=2023;\n",
    "        \"\"\"\n",
    "    all_addresses = pd.read_sql_query(query,cnx)\n",
    "    all_addresses.unit=all_addresses.unit.astype(str).str.replace('None','')\n",
    "    all_addresses.columns = ['streetName','streetnum','unit','pid']\n",
    "    cols = ['streetName','streetnum','unit']\n",
    "    all_addresses=all_addresses[~all_addresses.duplicated(cols)]\n",
    "\n",
    "\n",
    "\n",
    "    cols = ['streetName','streetnum','unit']\n",
    "    combo = addresses.merge(all_addresses,how='left',on=cols,indicator='matched')\n",
    "    matched = combo[combo.matched=='both'].drop('matched',axis=1)\n",
    "    unmatched = combo[combo.matched=='left_only'][cols]\n",
    "\n",
    "    assert (len(matched)+len(unmatched)-len(addresses))==0\n",
    "\n",
    "    query = \"select * from people.addresses where pid!='';\"\n",
    "    all_addresses = pd.read_sql_query(query,cnx)\n",
    "    all_addresses=all_addresses.rename(columns={'streetNum':'streetnum'})\n",
    "    all_addresses.unit=all_addresses.unit.astype(str).str.replace('None','')\n",
    "    all_addresses.streetSuffix=all_addresses.streetSuffix.astype(str).str.replace('None','')\n",
    "\n",
    "    cols = ['streetName','streetnum','unit']\n",
    "    all_addresses=all_addresses[~all_addresses.duplicated(cols)]\n",
    "\n",
    "    combo = unmatched.merge(all_addresses,how='left',on=cols,indicator='matched')\n",
    "    matched=pd.concat([matched,combo[combo.matched=='both'][cols+['pid']]])\n",
    "\n",
    "    unmatched=combo[combo.matched!='both'][cols]\n",
    "    print(\n",
    "        f' Matching and joining '\n",
    "        f'  permits={len(df)} '\n",
    "        f'  addresses={len(addresses)} '\n",
    "        f'    matched={len(matched)} '\n",
    "        f'not matched={len(unmatched)}'\n",
    "         )\n",
    "    \n",
    "    return df . merge(matched,\n",
    "                           how='left',\n",
    "                           on=['streetName','streetNum'])\\\n",
    "                    . drop(['streetnum','unit'],axis=1)\n",
    "    \n"
   ]
  },
  {
   "cell_type": "code",
   "execution_count": null,
   "id": "5862872d-cf69-4be2-ade7-9ba216ed1829",
   "metadata": {
    "tags": []
   },
   "outputs": [],
   "source": [
    "permits = update_property_permits ( permits_raw.copy() )\n",
    "permits = match_streetNameNum_2_pid(permits, cnx)\n",
    "\n",
    "##exception\n",
    "permits=permits.replace({'Wide character in print at D:\\\\Web\\\\Permits\\\\Web\\\\List.pl line 710. 163':''})\n",
    "\n",
    "permit_classes = {'C':0,'I':1,'R':2}\n",
    "permits.permit_class=permits.permit_class.replace(permit_classes)\n",
    "permit_types = {'B':0,'C':1,'E':2,'G':3,'P':4}\n",
    "permits.permit_type=permits.permit_type.replace(permit_types)"
   ]
  },
  {
   "cell_type": "markdown",
   "id": "62d82561-cce8-4e71-b2dc-4aad9f96636f",
   "metadata": {
    "jp-MarkdownHeadingCollapsed": true
   },
   "source": [
    "## Load"
   ]
  },
  {
   "cell_type": "code",
   "execution_count": null,
   "id": "0f6a51ad-177b-44a5-b0ce-b18afb0d0fe3",
   "metadata": {},
   "outputs": [],
   "source": [
    "table_create_query = \\\n",
    "    \"\"\"\n",
    "        DROP TABLE IF EXISTS property.permits;\n",
    "        CREATE TABLE property.permits (\n",
    "            \"year\" SMALLINT NOT NULL ,\n",
    "            \"date\" DATE ,\n",
    "            \"permit\"  INTEGER NOT NULL,\n",
    "            \"permit_type\"  SMALLINT,\n",
    "            \"permit_class\"  SMALLINT,\n",
    "            \"description\"  text,\n",
    "            \"owner\"  varchar(255),\n",
    "            \"contractor\"  varchar(255),\n",
    "            \"permit_value\"  INTEGER,\n",
    "            \"permit_fee\"  INTEGER,\n",
    "            \"streetName\"  varchar(50),\n",
    "            \"streetNum\"  varchar(20),\n",
    "            \"address\"  varchar(255),\n",
    "            \"pid\"  varchar(17),\n",
    "            PRIMARY KEY (\"date\",\"permit_type\",\"permit\")\n",
    "        );\n",
    "        CREATE INDEX permits_idx \n",
    "            ON property.permits(pid);\n",
    "        CREATE INDEX permits_year_idx \n",
    "            ON property.permits(year);\n",
    "    \"\"\"\n",
    "\n",
    "#cnx.execute(table_create_query)\n"
   ]
  },
  {
   "cell_type": "code",
   "execution_count": null,
   "id": "331b75c4-0298-4ff8-81d0-687f4bba15d9",
   "metadata": {
    "tags": []
   },
   "outputs": [],
   "source": [
    "query = \"\"\"\n",
    "    delete from property.permits where year={year};\n",
    "\"\"\".format(year=2023)\n",
    "cnx.execute(query)\n",
    "\n",
    "permits.to_sql(\n",
    "    'permits',schema='property',con=cnx,\n",
    "    if_exists='append',index=False)\n"
   ]
  }
 ],
 "metadata": {
  "kernelspec": {
   "display_name": "Python 3 (ipykernel)",
   "language": "python",
   "name": "python3"
  },
  "language_info": {
   "codemirror_mode": {
    "name": "ipython",
    "version": 3
   },
   "file_extension": ".py",
   "mimetype": "text/x-python",
   "name": "python",
   "nbconvert_exporter": "python",
   "pygments_lexer": "ipython3",
   "version": "3.8.10"
  }
 },
 "nbformat": 4,
 "nbformat_minor": 5
}
