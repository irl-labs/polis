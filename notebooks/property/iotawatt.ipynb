{
 "cells": [
  {
   "cell_type": "code",
   "execution_count": 1,
   "id": "df9a08f6-024c-49ca-a5cb-85bec503f038",
   "metadata": {
    "jp-MarkdownHeadingCollapsed": true,
    "jupyter": {
     "source_hidden": true
    }
   },
   "outputs": [
    {
     "data": {
      "text/markdown": [
       "### [IoTaWatt](https://iotawatt.com/)\n",
       "\n",
       "IoTaWatt is an open source electricity hardware monitor that uses current transformers attached to circuits in an electrical box to monitor physical properties of voltage, current and power recording them to a database and viewable thru a local website.  Read more at [IoTaWatt](https://iotawatt.com/)."
      ],
      "text/plain": [
       "<IPython.core.display.Markdown object>"
      ]
     },
     "metadata": {},
     "output_type": "display_data"
    }
   ],
   "source": [
    "from IPython.display import Markdown, display\n",
    "\n",
    "display(Markdown(\"iotawatt.md\"))"
   ]
  },
  {
   "cell_type": "markdown",
   "id": "f407440b-1de7-413e-bdef-31d3219532f7",
   "metadata": {
    "jp-MarkdownHeadingCollapsed": true
   },
   "source": [
    "### Set-up"
   ]
  },
  {
   "cell_type": "code",
   "execution_count": null,
   "id": "4f55f807-850f-4c83-9d7b-508d06e3c112",
   "metadata": {},
   "outputs": [],
   "source": [
    "from dotenv import load_dotenv, find_dotenv\n",
    "_ = load_dotenv(find_dotenv(usecwd=True),override=True) # read local .env file\n",
    "\n",
    "from sqlalchemy import create_engine\n",
    "from os import environ\n",
    "\n",
    "username     =  environ.get(\"POSTGRES_USERNAME\", \"postgres\")\n",
    "password     =  environ.get(\"POSTGRES_PASSWORD\", \"postgres\")\n",
    "ipaddress    =  environ.get(\"POSTGRES_IPADDRESS\", \"localhost\")\n",
    "port         =  environ.get(\"POSTGRES_PORT\", \"5432\")\n",
    "dbname       =  environ.get(\"POSTGRES_DBNAME\", \"ArlingtonMA\")\n",
    "\n",
    "cnx= create_engine(f'postgresql://{username}:{password}@{ipaddress}:{port}/{dbname}')\n",
    "\n",
    "import pandas as pd\n",
    "from requests import get"
   ]
  },
  {
   "cell_type": "markdown",
   "id": "321038a2-76d4-44c4-9d93-97303e5074fe",
   "metadata": {
    "jp-MarkdownHeadingCollapsed": true
   },
   "source": [
    "### Extract and Transform"
   ]
  },
  {
   "cell_type": "code",
   "execution_count": null,
   "id": "dfb9827e-7ff2-4086-8986-eeca492e7638",
   "metadata": {},
   "outputs": [],
   "source": [
    "url = 'http://iotawatt.local/query?'+\\\n",
    "        'select=[time.utc.unix,total_power.wh.d4,Fridge.wh.d4,dryer.wh.d4,oven.wh.d4,Dishwasher.wh.d4,AC.wh.d4]&'+\\\n",
    "        'begin=2023-01-01&end=2023-12-31&group=h&header=yes&limit=None'\n",
    "raw = get(url).json()\n",
    "df=pd.DataFrame(raw['data'],columns=raw['labels'])\n",
    "df.columns = ['timestamp','kwh','fridge','dryer','oven','dishwasher','ac']\n",
    "\n",
    "df['timestamp'] = pd.to_datetime(df['timestamp'],unit='s').dt.tz_localize('UTC').dt.tz_convert('US/Eastern').dt.tz_localize(None)\n",
    "\n",
    "df = df[~df.timestamp.duplicated()]\n",
    "df = df[~pd.isnull(df.kwh)]\n",
    "df = df[df.kwh!=0]\n",
    "\n",
    "df['pid'] = \"YOUR_PID\"\n",
    "\n",
    "for col in ['kwh','fridge','dryer','oven','dishwasher','ac']:\n",
    "    df[col]=df[col]/1000\n",
    "\n"
   ]
  },
  {
   "cell_type": "markdown",
   "id": "c29928dd-ad5c-4269-b4cb-719255b58c61",
   "metadata": {
    "jp-MarkdownHeadingCollapsed": true
   },
   "source": [
    "### Load"
   ]
  },
  {
   "cell_type": "code",
   "execution_count": null,
   "id": "b861b49a-74b3-4530-92ce-d46189262005",
   "metadata": {},
   "outputs": [],
   "source": [
    "table_create_query = \\\n",
    "    \"\"\"\n",
    "        DROP TABLE IF EXISTS energy.ohms;\n",
    "        CREATE TABLE energy.ohms (\n",
    "            pid CHAR(17),\n",
    "            timestamp  TIMESTAMP,\n",
    "            kwh REAL,\n",
    "            fridge REAL,\n",
    "            dryer REAL,\n",
    "            oven REAL,\n",
    "            dishwasher REAL,\n",
    "            ac REAL,\n",
    "            PRIMARY KEY(pid,timestamp)\n",
    "        )\n",
    "       ;\n",
    "    \"\"\"\n",
    "\n",
    "cnx.execute(table_create_query)\n",
    "\n",
    "df.to_sql (\n",
    "        'ohms',\n",
    "        schema='energy',\n",
    "        con=cnx,\n",
    "        if_exists='append',\n",
    "        index=False\n",
    ")"
   ]
  }
 ],
 "metadata": {
  "kernelspec": {
   "display_name": "Python 3 (ipykernel)",
   "language": "python",
   "name": "python3"
  },
  "language_info": {
   "codemirror_mode": {
    "name": "ipython",
    "version": 3
   },
   "file_extension": ".py",
   "mimetype": "text/x-python",
   "name": "python",
   "nbconvert_exporter": "python",
   "pygments_lexer": "ipython3",
   "version": "3.8.10"
  }
 },
 "nbformat": 4,
 "nbformat_minor": 5
}
