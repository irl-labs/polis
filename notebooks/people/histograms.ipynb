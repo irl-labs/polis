{
 "cells": [
  {
   "cell_type": "markdown",
   "id": "e96b97b6-a938-4c86-8300-d1ee149db50c",
   "metadata": {
    "jp-MarkdownHeadingCollapsed": true,
    "tags": []
   },
   "source": [
    "## Compute histograms\n",
    "\n",
    "1. activity_type\n",
    "    * elections\n",
    "    * residents\n",
    "    * registered voters\n",
    "2. precinct\n",
    "    * P1-P21\n",
    "3. party\n",
    "    * Democrat\n",
    "    * Republican\n",
    "    * Unenrolled\n",
    "    * Other Party\n",
    "4. sex\n",
    "    * Male\n",
    "    * Female\n",
    "    * Unknown Sex"
   ]
  },
  {
   "cell_type": "code",
   "execution_count": null,
   "id": "a5e6b9ce-18d9-4075-8170-2ff7dbfb620f",
   "metadata": {
    "tags": []
   },
   "outputs": [],
   "source": [
    "from dotenv import load_dotenv, find_dotenv\n",
    "_ = load_dotenv (\n",
    "        find_dotenv (\n",
    "            usecwd=True\n",
    "        ),\n",
    "    override=True\n",
    ") # read local .env file and override any existing\n",
    "\n",
    "from sqlalchemy import create_engine\n",
    "from os import environ\n",
    "\n",
    "username     =  environ.get(\"POSTGRES_USERNAME\", \"postgres\")\n",
    "password     =  environ.get(\"POSTGRES_PASSWORD\", \"postgres\")\n",
    "ipaddress    =  environ.get(\"POSTGRES_IPADDRESS\", \"localhost\")\n",
    "port         =  environ.get(\"POSTGRES_PORT\", \"5432\")\n",
    "dbname       =  environ.get(\"POSTGRES_DBNAME\", \"ArlingtonMA\")\n",
    "\n",
    "#establish database connection for Transform queries and Loads\n",
    "cnx= create_engine(f'postgresql://{username}:{password}@{ipaddress}:{port}/{dbname}')\n"
   ]
  },
  {
   "cell_type": "markdown",
   "id": "0bf29707-cb97-43f3-8107-561a8234089d",
   "metadata": {
    "jp-MarkdownHeadingCollapsed": true
   },
   "source": [
    "## Transform"
   ]
  },
  {
   "cell_type": "code",
   "execution_count": null,
   "id": "5a1e0aec-5072-4463-a2c7-98801b45758a",
   "metadata": {
    "tags": []
   },
   "outputs": [],
   "source": [
    "def people_expand_for_histo ( peeps, attributes , date) :\n",
    "    from numpy import timedelta64\n",
    "       \n",
    "    date = pd.to_datetime(date).date()\n",
    "\n",
    "    df = peeps.merge(attributes,how='left',on='people_id')\n",
    "\n",
    "\n",
    "    for col in ['name','address_id','party','precinct']:\n",
    "        df = df.explode([col,'date_'+col])\n",
    "\n",
    "        mask = df['date_'+col]<= date\n",
    "        a = df [  mask ] [ ~df [ mask ] . duplicated ( ['people_id'] , keep = 'last')]\n",
    "        b = df [ ~mask ] [ ~df [ ~mask] . duplicated ( ['people_id'] , keep = 'first')]\n",
    "        df = pd . concat ( [ a , b [ ~b . people_id . isin ( a . people_id ) ] ] )\n",
    "        \n",
    "    df = df. replace({pd.isnull:'',None:''})\n",
    "\n",
    "    df [ 'age' ]  =  round(((pd.to_datetime(date)-pd.to_datetime(df['dob']))/ timedelta64(1, 'Y')),0).astype(float).fillna(0).astype(int)\n",
    "    \n",
    "    cols = ['name','precinct','party','sex', 'age', 'people_id']\n",
    "        \n",
    "    return df[cols]\n",
    "\n",
    "\n",
    "def get_histo_by_date(df,col):\n",
    "    \n",
    "    if col == 'party':\n",
    "        mask = df.party.isin([1,2,4])\n",
    "        df.loc[~mask,col]=0\n",
    "\n",
    "    cols = [col,'age']\n",
    "    histo = df.groupby(cols).count().reset_index()[cols + ['people_id']]\n",
    "    histo.columns = histo.columns .str.replace('people_id','count')\n",
    "\n",
    "    histo=histo.pivot_table(\n",
    "        index=[col,'age'],values='count',fill_value=0)\\\n",
    "            .reset_index()\n",
    "    histo['date']=date\n",
    "    return histo\n",
    "\n",
    "\n",
    "def create_histograms(activity, attributes):\n",
    "    idx = 0\n",
    "    age_histogram=pd.DataFrame()\n",
    "    party_histogram = pd.DataFrame()\n",
    "    precinct_histogram = pd.DataFrame()\n",
    "    sex_histogram = pd.DataFrame()\n",
    "\n",
    "    for ptype in ['elections','registered','residents']:\n",
    "\n",
    "        tmp = activity[ptype].copy()\n",
    "\n",
    "        combo = tmp.merge(attributes,how='left',on='people_id').explode('date').sort_values(['people_id','date'])\n",
    "        combo['age'] = ((pd.to_datetime(combo['date'])-pd.to_datetime(combo['dob']))/ timedelta64(1, 'Y'))\n",
    "        mask = (pd.isnull(combo['age'])) | (combo['age']=='')\n",
    "        combo.loc[mask,'age']='0'\n",
    "        combo['age']=combo['age'].astype(int)\n",
    "\n",
    "        cols = ['date', 'age']\n",
    "        h_age = combo.groupby(cols).count().reset_index()[cols + ['people_id']]\n",
    "        h_age.columns = h_age.columns .str.replace('people_id','count')\n",
    "\n",
    "        h_age=h_age.pivot_table(\n",
    "            index=['date','age'],values='count',fill_value=0)\\\n",
    "                .reset_index()\n",
    "        h_age['activity_type']=idx\n",
    "        age_histogram = pd.concat([age_histogram,h_age])\n",
    "\n",
    "        idx+=1\n",
    "\n",
    "        for date in combo.date.sort_values().unique():\n",
    "\n",
    "            mask = tmp.explode(['date']).date==pd.to_datetime(date).date()\n",
    "            df = people_expand_for_histo ( tmp.explode(['date'])[mask], attributes , date)\n",
    "\n",
    "            #party\n",
    "            histo = get_histo_by_date(df,'party')\n",
    "            party_histogram = pd.concat([party_histogram,histo])\n",
    "\n",
    "            histo = get_histo_by_date(df,'precinct')\n",
    "            precinct_histogram = pd.concat([precinct_histogram,histo])\n",
    "\n",
    "            histo = get_histo_by_date(df,'sex')\n",
    "            sex_histogram = pd.concat([sex_histogram,histo])\n",
    "            \n",
    "    return (\n",
    "        age_histogram, \n",
    "        precinct_histogram,\n",
    "        party_histogram,\n",
    "        sex_histogram\n",
    "    )"
   ]
  },
  {
   "cell_type": "code",
   "execution_count": null,
   "id": "56d38106-eba1-4995-ac87-5d0878b046c8",
   "metadata": {},
   "outputs": [],
   "source": [
    "## get data\n",
    "activity = {}\n",
    "for ptype in ['elections','residents','registered']:\n",
    "    activity[ptype] = pd . read_sql_query ( 'select * from people.{ptype}'.format(ptype=ptype), con = cnx )\n",
    "    \n",
    "attributes = pd . read_sql_query ( 'select * from people.attributes' , con = cnx )\n",
    "\n",
    "## group buckets, age and type\n",
    "activity_type_histogram, precinct_histogram,party_histogram, sex_histogram =\\\n",
    "        create_histograms(activity, attributes)"
   ]
  },
  {
   "cell_type": "markdown",
   "id": "fd20cdae-e003-4b66-95a7-8163367b6388",
   "metadata": {
    "jp-MarkdownHeadingCollapsed": true,
    "tags": []
   },
   "source": [
    "## Load"
   ]
  },
  {
   "cell_type": "code",
   "execution_count": null,
   "id": "b57b5c27-9c8c-4a2f-9f22-e6938089130f",
   "metadata": {
    "tags": []
   },
   "outputs": [],
   "source": [
    "table_create_query = \\\n",
    "    \"\"\"\n",
    "        DROP TABLE IF EXISTS people.{group}_histogram;\n",
    "        CREATE TABLE people.{group}_histogram (\n",
    "            \"date\"  DATE,\n",
    "            \"age\"   SMALLINT,\n",
    "            \"count\" SMALLINT,\n",
    "            \"{group}\" SMALLINT\n",
    "            );\n",
    "        CREATE INDEX people_{group}_histogram_idx \n",
    "            ON people.{group}_histogram(\"date\");\n",
    "    \"\"\"\n",
    "            \n",
    "for group in ['activity_type','precinct','party','sex']:\n",
    "    cnx.execute(table_create_query.format(group=group))\n",
    "    eval(group+\"_histogram\").to_sql(group+\"_histogram\",\n",
    "                                   schema='people',\n",
    "                                   con=cnx,\n",
    "                                   if_exists='append',\n",
    "                                   index=False\n",
    "                                  )    "
   ]
  },
  {
   "cell_type": "code",
   "execution_count": null,
   "id": "a68479f5-b978-4cbb-92c4-fadbb372229d",
   "metadata": {
    "tags": []
   },
   "outputs": [],
   "source": []
  }
 ],
 "metadata": {
  "kernelspec": {
   "display_name": "Python 3 (ipykernel)",
   "language": "python",
   "name": "python3"
  },
  "language_info": {
   "codemirror_mode": {
    "name": "ipython",
    "version": 3
   },
   "file_extension": ".py",
   "mimetype": "text/x-python",
   "name": "python",
   "nbconvert_exporter": "python",
   "pygments_lexer": "ipython3",
   "version": "3.8.10"
  }
 },
 "nbformat": 4,
 "nbformat_minor": 5
}
